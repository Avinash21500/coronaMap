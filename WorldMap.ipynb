{
 "cells": [
  {
   "cell_type": "markdown",
   "metadata": {},
   "source": [
    "# Importing libraries"
   ]
  },
  {
   "cell_type": "code",
   "execution_count": 1,
   "metadata": {},
   "outputs": [],
   "source": [
    "import numpy as np\n",
    "import pandas as pd"
   ]
  },
  {
   "cell_type": "code",
   "execution_count": 2,
   "metadata": {},
   "outputs": [],
   "source": [
    "import matplotlib.pyplot as plt\n",
    "import seaborn as sns"
   ]
  },
  {
   "cell_type": "code",
   "execution_count": 3,
   "metadata": {},
   "outputs": [],
   "source": [
    "import cufflinks as cf\n",
    "import chart_studio.plotly as py"
   ]
  },
  {
   "cell_type": "code",
   "execution_count": 4,
   "metadata": {},
   "outputs": [
    {
     "data": {
      "text/html": [
       "        <script type=\"text/javascript\">\n",
       "        window.PlotlyConfig = {MathJaxConfig: 'local'};\n",
       "        if (window.MathJax) {MathJax.Hub.Config({SVG: {font: \"STIX-Web\"}});}\n",
       "        if (typeof require !== 'undefined') {\n",
       "        require.undef(\"plotly\");\n",
       "        requirejs.config({\n",
       "            paths: {\n",
       "                'plotly': ['https://cdn.plot.ly/plotly-latest.min']\n",
       "            }\n",
       "        });\n",
       "        require(['plotly'], function(Plotly) {\n",
       "            window._Plotly = Plotly;\n",
       "        });\n",
       "        }\n",
       "        </script>\n",
       "        "
      ]
     },
     "metadata": {},
     "output_type": "display_data"
    }
   ],
   "source": [
    "import plotly.graph_objs as go\n",
    "cf.go_offline()"
   ]
  },
  {
   "cell_type": "markdown",
   "metadata": {},
   "source": [
    "checking version"
   ]
  },
  {
   "cell_type": "code",
   "execution_count": 5,
   "metadata": {},
   "outputs": [
    {
     "name": "stdout",
     "output_type": "stream",
     "text": [
      "4.6.0\n"
     ]
    }
   ],
   "source": [
    "from plotly import __version__\n",
    "print(__version__)"
   ]
  },
  {
   "cell_type": "code",
   "execution_count": 6,
   "metadata": {},
   "outputs": [],
   "source": [
    "from plotly.offline import download_plotlyjs, init_notebook_mode, plot, iplot"
   ]
  },
  {
   "cell_type": "code",
   "execution_count": 7,
   "metadata": {},
   "outputs": [
    {
     "data": {
      "text/html": [
       "        <script type=\"text/javascript\">\n",
       "        window.PlotlyConfig = {MathJaxConfig: 'local'};\n",
       "        if (window.MathJax) {MathJax.Hub.Config({SVG: {font: \"STIX-Web\"}});}\n",
       "        if (typeof require !== 'undefined') {\n",
       "        require.undef(\"plotly\");\n",
       "        requirejs.config({\n",
       "            paths: {\n",
       "                'plotly': ['https://cdn.plot.ly/plotly-latest.min']\n",
       "            }\n",
       "        });\n",
       "        require(['plotly'], function(Plotly) {\n",
       "            window._Plotly = Plotly;\n",
       "        });\n",
       "        }\n",
       "        </script>\n",
       "        "
      ]
     },
     "metadata": {},
     "output_type": "display_data"
    }
   ],
   "source": [
    "init_notebook_mode(connected=True)"
   ]
  },
  {
   "cell_type": "markdown",
   "metadata": {},
   "source": [
    "# Importing Data"
   ]
  },
  {
   "cell_type": "code",
   "execution_count": 8,
   "metadata": {},
   "outputs": [],
   "source": [
    "df=pd.read_csv('covid_19_data.csv')"
   ]
  },
  {
   "cell_type": "code",
   "execution_count": 9,
   "metadata": {},
   "outputs": [
    {
     "data": {
      "text/html": [
       "<div>\n",
       "<style scoped>\n",
       "    .dataframe tbody tr th:only-of-type {\n",
       "        vertical-align: middle;\n",
       "    }\n",
       "\n",
       "    .dataframe tbody tr th {\n",
       "        vertical-align: top;\n",
       "    }\n",
       "\n",
       "    .dataframe thead th {\n",
       "        text-align: right;\n",
       "    }\n",
       "</style>\n",
       "<table border=\"1\" class=\"dataframe\">\n",
       "  <thead>\n",
       "    <tr style=\"text-align: right;\">\n",
       "      <th></th>\n",
       "      <th>SNo</th>\n",
       "      <th>ObservationDate</th>\n",
       "      <th>Province/State</th>\n",
       "      <th>Country/Region</th>\n",
       "      <th>Last Update</th>\n",
       "      <th>Confirmed</th>\n",
       "      <th>Deaths</th>\n",
       "      <th>Recovered</th>\n",
       "    </tr>\n",
       "  </thead>\n",
       "  <tbody>\n",
       "    <tr>\n",
       "      <th>0</th>\n",
       "      <td>1</td>\n",
       "      <td>01/22/2020</td>\n",
       "      <td>Anhui</td>\n",
       "      <td>Mainland China</td>\n",
       "      <td>1/22/2020 17:00</td>\n",
       "      <td>1.0</td>\n",
       "      <td>0.0</td>\n",
       "      <td>0.0</td>\n",
       "    </tr>\n",
       "    <tr>\n",
       "      <th>1</th>\n",
       "      <td>2</td>\n",
       "      <td>01/22/2020</td>\n",
       "      <td>Beijing</td>\n",
       "      <td>Mainland China</td>\n",
       "      <td>1/22/2020 17:00</td>\n",
       "      <td>14.0</td>\n",
       "      <td>0.0</td>\n",
       "      <td>0.0</td>\n",
       "    </tr>\n",
       "    <tr>\n",
       "      <th>2</th>\n",
       "      <td>3</td>\n",
       "      <td>01/22/2020</td>\n",
       "      <td>Chongqing</td>\n",
       "      <td>Mainland China</td>\n",
       "      <td>1/22/2020 17:00</td>\n",
       "      <td>6.0</td>\n",
       "      <td>0.0</td>\n",
       "      <td>0.0</td>\n",
       "    </tr>\n",
       "    <tr>\n",
       "      <th>3</th>\n",
       "      <td>4</td>\n",
       "      <td>01/22/2020</td>\n",
       "      <td>Fujian</td>\n",
       "      <td>Mainland China</td>\n",
       "      <td>1/22/2020 17:00</td>\n",
       "      <td>1.0</td>\n",
       "      <td>0.0</td>\n",
       "      <td>0.0</td>\n",
       "    </tr>\n",
       "    <tr>\n",
       "      <th>4</th>\n",
       "      <td>5</td>\n",
       "      <td>01/22/2020</td>\n",
       "      <td>Gansu</td>\n",
       "      <td>Mainland China</td>\n",
       "      <td>1/22/2020 17:00</td>\n",
       "      <td>0.0</td>\n",
       "      <td>0.0</td>\n",
       "      <td>0.0</td>\n",
       "    </tr>\n",
       "  </tbody>\n",
       "</table>\n",
       "</div>"
      ],
      "text/plain": [
       "   SNo ObservationDate Province/State  Country/Region      Last Update  \\\n",
       "0    1      01/22/2020          Anhui  Mainland China  1/22/2020 17:00   \n",
       "1    2      01/22/2020        Beijing  Mainland China  1/22/2020 17:00   \n",
       "2    3      01/22/2020      Chongqing  Mainland China  1/22/2020 17:00   \n",
       "3    4      01/22/2020         Fujian  Mainland China  1/22/2020 17:00   \n",
       "4    5      01/22/2020          Gansu  Mainland China  1/22/2020 17:00   \n",
       "\n",
       "   Confirmed  Deaths  Recovered  \n",
       "0        1.0     0.0        0.0  \n",
       "1       14.0     0.0        0.0  \n",
       "2        6.0     0.0        0.0  \n",
       "3        1.0     0.0        0.0  \n",
       "4        0.0     0.0        0.0  "
      ]
     },
     "execution_count": 9,
     "metadata": {},
     "output_type": "execute_result"
    }
   ],
   "source": [
    "df.head()"
   ]
  },
  {
   "cell_type": "code",
   "execution_count": 10,
   "metadata": {},
   "outputs": [],
   "source": [
    "import re\n",
    "df['Country/Region'] = df['Country/Region'].apply(lambda x: re.sub(r'\\W+', '', x))"
   ]
  },
  {
   "cell_type": "code",
   "execution_count": 11,
   "metadata": {},
   "outputs": [
    {
     "data": {
      "text/html": [
       "<div>\n",
       "<style scoped>\n",
       "    .dataframe tbody tr th:only-of-type {\n",
       "        vertical-align: middle;\n",
       "    }\n",
       "\n",
       "    .dataframe tbody tr th {\n",
       "        vertical-align: top;\n",
       "    }\n",
       "\n",
       "    .dataframe thead th {\n",
       "        text-align: right;\n",
       "    }\n",
       "</style>\n",
       "<table border=\"1\" class=\"dataframe\">\n",
       "  <thead>\n",
       "    <tr style=\"text-align: right;\">\n",
       "      <th></th>\n",
       "      <th>SNo</th>\n",
       "      <th>ObservationDate</th>\n",
       "      <th>Province/State</th>\n",
       "      <th>Country/Region</th>\n",
       "      <th>Last Update</th>\n",
       "      <th>Confirmed</th>\n",
       "      <th>Deaths</th>\n",
       "      <th>Recovered</th>\n",
       "    </tr>\n",
       "  </thead>\n",
       "  <tbody>\n",
       "    <tr>\n",
       "      <th>0</th>\n",
       "      <td>1</td>\n",
       "      <td>01/22/2020</td>\n",
       "      <td>Anhui</td>\n",
       "      <td>MainlandChina</td>\n",
       "      <td>1/22/2020 17:00</td>\n",
       "      <td>1.0</td>\n",
       "      <td>0.0</td>\n",
       "      <td>0.0</td>\n",
       "    </tr>\n",
       "    <tr>\n",
       "      <th>1</th>\n",
       "      <td>2</td>\n",
       "      <td>01/22/2020</td>\n",
       "      <td>Beijing</td>\n",
       "      <td>MainlandChina</td>\n",
       "      <td>1/22/2020 17:00</td>\n",
       "      <td>14.0</td>\n",
       "      <td>0.0</td>\n",
       "      <td>0.0</td>\n",
       "    </tr>\n",
       "    <tr>\n",
       "      <th>2</th>\n",
       "      <td>3</td>\n",
       "      <td>01/22/2020</td>\n",
       "      <td>Chongqing</td>\n",
       "      <td>MainlandChina</td>\n",
       "      <td>1/22/2020 17:00</td>\n",
       "      <td>6.0</td>\n",
       "      <td>0.0</td>\n",
       "      <td>0.0</td>\n",
       "    </tr>\n",
       "    <tr>\n",
       "      <th>3</th>\n",
       "      <td>4</td>\n",
       "      <td>01/22/2020</td>\n",
       "      <td>Fujian</td>\n",
       "      <td>MainlandChina</td>\n",
       "      <td>1/22/2020 17:00</td>\n",
       "      <td>1.0</td>\n",
       "      <td>0.0</td>\n",
       "      <td>0.0</td>\n",
       "    </tr>\n",
       "    <tr>\n",
       "      <th>4</th>\n",
       "      <td>5</td>\n",
       "      <td>01/22/2020</td>\n",
       "      <td>Gansu</td>\n",
       "      <td>MainlandChina</td>\n",
       "      <td>1/22/2020 17:00</td>\n",
       "      <td>0.0</td>\n",
       "      <td>0.0</td>\n",
       "      <td>0.0</td>\n",
       "    </tr>\n",
       "  </tbody>\n",
       "</table>\n",
       "</div>"
      ],
      "text/plain": [
       "   SNo ObservationDate Province/State Country/Region      Last Update  \\\n",
       "0    1      01/22/2020          Anhui  MainlandChina  1/22/2020 17:00   \n",
       "1    2      01/22/2020        Beijing  MainlandChina  1/22/2020 17:00   \n",
       "2    3      01/22/2020      Chongqing  MainlandChina  1/22/2020 17:00   \n",
       "3    4      01/22/2020         Fujian  MainlandChina  1/22/2020 17:00   \n",
       "4    5      01/22/2020          Gansu  MainlandChina  1/22/2020 17:00   \n",
       "\n",
       "   Confirmed  Deaths  Recovered  \n",
       "0        1.0     0.0        0.0  \n",
       "1       14.0     0.0        0.0  \n",
       "2        6.0     0.0        0.0  \n",
       "3        1.0     0.0        0.0  \n",
       "4        0.0     0.0        0.0  "
      ]
     },
     "execution_count": 11,
     "metadata": {},
     "output_type": "execute_result"
    }
   ],
   "source": [
    "df.head()"
   ]
  },
  {
   "cell_type": "markdown",
   "metadata": {},
   "source": [
    "adding on more column which represent no of remaining cases"
   ]
  },
  {
   "cell_type": "code",
   "execution_count": 12,
   "metadata": {},
   "outputs": [],
   "source": [
    "df['active']=df['Confirmed']-df['Recovered']"
   ]
  },
  {
   "cell_type": "code",
   "execution_count": 13,
   "metadata": {},
   "outputs": [
    {
     "data": {
      "text/html": [
       "<div>\n",
       "<style scoped>\n",
       "    .dataframe tbody tr th:only-of-type {\n",
       "        vertical-align: middle;\n",
       "    }\n",
       "\n",
       "    .dataframe tbody tr th {\n",
       "        vertical-align: top;\n",
       "    }\n",
       "\n",
       "    .dataframe thead th {\n",
       "        text-align: right;\n",
       "    }\n",
       "</style>\n",
       "<table border=\"1\" class=\"dataframe\">\n",
       "  <thead>\n",
       "    <tr style=\"text-align: right;\">\n",
       "      <th></th>\n",
       "      <th>SNo</th>\n",
       "      <th>ObservationDate</th>\n",
       "      <th>Province/State</th>\n",
       "      <th>Country/Region</th>\n",
       "      <th>Last Update</th>\n",
       "      <th>Confirmed</th>\n",
       "      <th>Deaths</th>\n",
       "      <th>Recovered</th>\n",
       "      <th>active</th>\n",
       "    </tr>\n",
       "  </thead>\n",
       "  <tbody>\n",
       "    <tr>\n",
       "      <th>0</th>\n",
       "      <td>1</td>\n",
       "      <td>01/22/2020</td>\n",
       "      <td>Anhui</td>\n",
       "      <td>MainlandChina</td>\n",
       "      <td>1/22/2020 17:00</td>\n",
       "      <td>1.0</td>\n",
       "      <td>0.0</td>\n",
       "      <td>0.0</td>\n",
       "      <td>1.0</td>\n",
       "    </tr>\n",
       "    <tr>\n",
       "      <th>1</th>\n",
       "      <td>2</td>\n",
       "      <td>01/22/2020</td>\n",
       "      <td>Beijing</td>\n",
       "      <td>MainlandChina</td>\n",
       "      <td>1/22/2020 17:00</td>\n",
       "      <td>14.0</td>\n",
       "      <td>0.0</td>\n",
       "      <td>0.0</td>\n",
       "      <td>14.0</td>\n",
       "    </tr>\n",
       "    <tr>\n",
       "      <th>2</th>\n",
       "      <td>3</td>\n",
       "      <td>01/22/2020</td>\n",
       "      <td>Chongqing</td>\n",
       "      <td>MainlandChina</td>\n",
       "      <td>1/22/2020 17:00</td>\n",
       "      <td>6.0</td>\n",
       "      <td>0.0</td>\n",
       "      <td>0.0</td>\n",
       "      <td>6.0</td>\n",
       "    </tr>\n",
       "    <tr>\n",
       "      <th>3</th>\n",
       "      <td>4</td>\n",
       "      <td>01/22/2020</td>\n",
       "      <td>Fujian</td>\n",
       "      <td>MainlandChina</td>\n",
       "      <td>1/22/2020 17:00</td>\n",
       "      <td>1.0</td>\n",
       "      <td>0.0</td>\n",
       "      <td>0.0</td>\n",
       "      <td>1.0</td>\n",
       "    </tr>\n",
       "    <tr>\n",
       "      <th>4</th>\n",
       "      <td>5</td>\n",
       "      <td>01/22/2020</td>\n",
       "      <td>Gansu</td>\n",
       "      <td>MainlandChina</td>\n",
       "      <td>1/22/2020 17:00</td>\n",
       "      <td>0.0</td>\n",
       "      <td>0.0</td>\n",
       "      <td>0.0</td>\n",
       "      <td>0.0</td>\n",
       "    </tr>\n",
       "  </tbody>\n",
       "</table>\n",
       "</div>"
      ],
      "text/plain": [
       "   SNo ObservationDate Province/State Country/Region      Last Update  \\\n",
       "0    1      01/22/2020          Anhui  MainlandChina  1/22/2020 17:00   \n",
       "1    2      01/22/2020        Beijing  MainlandChina  1/22/2020 17:00   \n",
       "2    3      01/22/2020      Chongqing  MainlandChina  1/22/2020 17:00   \n",
       "3    4      01/22/2020         Fujian  MainlandChina  1/22/2020 17:00   \n",
       "4    5      01/22/2020          Gansu  MainlandChina  1/22/2020 17:00   \n",
       "\n",
       "   Confirmed  Deaths  Recovered  active  \n",
       "0        1.0     0.0        0.0     1.0  \n",
       "1       14.0     0.0        0.0    14.0  \n",
       "2        6.0     0.0        0.0     6.0  \n",
       "3        1.0     0.0        0.0     1.0  \n",
       "4        0.0     0.0        0.0     0.0  "
      ]
     },
     "execution_count": 13,
     "metadata": {},
     "output_type": "execute_result"
    }
   ],
   "source": [
    "df.head()"
   ]
  },
  {
   "cell_type": "markdown",
   "metadata": {},
   "source": [
    "making group of data on the basis of 'Country/region'"
   ]
  },
  {
   "cell_type": "code",
   "execution_count": 14,
   "metadata": {},
   "outputs": [],
   "source": [
    "tre=pd.DataFrame(df['Confirmed'].groupby(df['Country/Region']).max())"
   ]
  },
  {
   "cell_type": "code",
   "execution_count": 15,
   "metadata": {
    "scrolled": false
   },
   "outputs": [
    {
     "data": {
      "text/plain": [
       "Country/Region\n",
       "Afghanistan                      840.0\n",
       "Albania                          518.0\n",
       "Algeria                         2268.0\n",
       "Andorra                          673.0\n",
       "Angola                            19.0\n",
       "                                 ...  \n",
       "WesternSahara                      6.0\n",
       "Yemen                              1.0\n",
       "Zambia                            48.0\n",
       "Zimbabwe                          23.0\n",
       "occupiedPalestinianterritory      25.0\n",
       "Name: Confirmed, Length: 218, dtype: float64"
      ]
     },
     "execution_count": 15,
     "metadata": {},
     "output_type": "execute_result"
    }
   ],
   "source": [
    "tre['Confirmed']"
   ]
  },
  {
   "cell_type": "code",
   "execution_count": 16,
   "metadata": {},
   "outputs": [],
   "source": [
    "deaths=pd.DataFrame(df['Deaths'].groupby(df['Country/Region']).max())"
   ]
  },
  {
   "cell_type": "code",
   "execution_count": 17,
   "metadata": {},
   "outputs": [],
   "source": [
    "recovered=pd.DataFrame(df['Recovered'].groupby(df['Country/Region']).max())"
   ]
  },
  {
   "cell_type": "code",
   "execution_count": 18,
   "metadata": {},
   "outputs": [],
   "source": [
    "remainingCases=pd.DataFrame(df['active'].groupby(df['Country/Region']).max())"
   ]
  },
  {
   "cell_type": "code",
   "execution_count": 19,
   "metadata": {},
   "outputs": [],
   "source": [
    "tre['text']='No of Deaths:-'+deaths['Deaths'].astype(str)+'<br>'+ 'No of recoverd:-'+recovered['Recovered'].astype(str)+'<br>'+'No of Remaining Cases:-'+remainingCases['active'].astype(str)"
   ]
  },
  {
   "cell_type": "markdown",
   "metadata": {},
   "source": [
    "# Making "
   ]
  },
  {
   "cell_type": "code",
   "execution_count": 20,
   "metadata": {},
   "outputs": [],
   "source": [
    "data = dict(\n",
    "        type = 'choropleth',\n",
    "        locations =tre.index,\n",
    "    locationmode='country names',\n",
    "        z=tre['Confirmed'],\n",
    "        text= tre['text'],\n",
    "        colorbar = {'title' : 'Number of Confirmed Corona Cases'},\n",
    "      )"
   ]
  },
  {
   "cell_type": "code",
   "execution_count": 21,
   "metadata": {},
   "outputs": [],
   "source": [
    "layout = dict(\n",
    "    title = 'Covid 19 Cases',\n",
    "    geo = dict(\n",
    "        showframe = False,\n",
    "        projection = {'type':'equirectangular'}\n",
    "    )\n",
    ")"
   ]
  },
  {
   "cell_type": "code",
   "execution_count": 22,
   "metadata": {},
   "outputs": [],
   "source": [
    "choromap = go.Figure(data = [data],layout = layout)"
   ]
  },
  {
   "cell_type": "code",
   "execution_count": 23,
   "metadata": {},
   "outputs": [
    {
     "data": {
      "application/vnd.plotly.v1+json": {
       "config": {
        "linkText": "Export to plot.ly",
        "plotlyServerURL": "https://plot.ly",
        "showLink": false
       },
       "data": [
        {
         "colorbar": {
          "title": {
           "text": "Number of Confirmed Corona Cases"
          }
         },
         "locationmode": "country names",
         "locations": [
          "Afghanistan",
          "Albania",
          "Algeria",
          "Andorra",
          "Angola",
          "AntiguaandBarbuda",
          "Argentina",
          "Armenia",
          "Aruba",
          "Australia",
          "Austria",
          "Azerbaijan",
          "Bahamas",
          "BahamasThe",
          "Bahrain",
          "Bangladesh",
          "Barbados",
          "Belarus",
          "Belgium",
          "Belize",
          "Benin",
          "Bhutan",
          "Bolivia",
          "BosniaandHerzegovina",
          "Botswana",
          "Brazil",
          "Brunei",
          "Bulgaria",
          "BurkinaFaso",
          "Burma",
          "Burundi",
          "CaboVerde",
          "Cambodia",
          "Cameroon",
          "Canada",
          "CapeVerde",
          "CaymanIslands",
          "CentralAfricanRepublic",
          "Chad",
          "ChannelIslands",
          "Chile",
          "Colombia",
          "CongoBrazzaville",
          "CongoKinshasa",
          "CostaRica",
          "Croatia",
          "Cuba",
          "Curacao",
          "Cyprus",
          "CzechRepublic",
          "Denmark",
          "DiamondPrincess",
          "Djibouti",
          "Dominica",
          "DominicanRepublic",
          "EastTimor",
          "Ecuador",
          "Egypt",
          "ElSalvador",
          "EquatorialGuinea",
          "Eritrea",
          "Estonia",
          "Eswatini",
          "Ethiopia",
          "FaroeIslands",
          "Fiji",
          "Finland",
          "France",
          "FrenchGuiana",
          "Gabon",
          "Gambia",
          "GambiaThe",
          "Georgia",
          "Germany",
          "Ghana",
          "Gibraltar",
          "Greece",
          "Greenland",
          "Grenada",
          "Guadeloupe",
          "Guam",
          "Guatemala",
          "Guernsey",
          "Guinea",
          "GuineaBissau",
          "Guyana",
          "Haiti",
          "HolySee",
          "Honduras",
          "HongKong",
          "Hungary",
          "Iceland",
          "India",
          "Indonesia",
          "Iran",
          "Iraq",
          "Ireland",
          "Israel",
          "Italy",
          "IvoryCoast",
          "Jamaica",
          "Japan",
          "Jersey",
          "Jordan",
          "Kazakhstan",
          "Kenya",
          "Kosovo",
          "Kuwait",
          "Kyrgyzstan",
          "Laos",
          "Latvia",
          "Lebanon",
          "Liberia",
          "Libya",
          "Liechtenstein",
          "Lithuania",
          "Luxembourg",
          "MSZaandam",
          "Macau",
          "Madagascar",
          "MainlandChina",
          "Malawi",
          "Malaysia",
          "Maldives",
          "Mali",
          "Malta",
          "Martinique",
          "Mauritania",
          "Mauritius",
          "Mayotte",
          "Mexico",
          "Moldova",
          "Monaco",
          "Mongolia",
          "Montenegro",
          "Morocco",
          "Mozambique",
          "Namibia",
          "Nepal",
          "Netherlands",
          "NewZealand",
          "Nicaragua",
          "Niger",
          "Nigeria",
          "NorthIreland",
          "NorthMacedonia",
          "Norway",
          "Oman",
          "Others",
          "Pakistan",
          "Palestine",
          "Panama",
          "PapuaNewGuinea",
          "Paraguay",
          "Peru",
          "Philippines",
          "Poland",
          "Portugal",
          "PuertoRico",
          "Qatar",
          "RepublicofIreland",
          "RepublicoftheCongo",
          "Reunion",
          "Romania",
          "Russia",
          "Rwanda",
          "SaintBarthelemy",
          "SaintKittsandNevis",
          "SaintLucia",
          "SaintVincentandtheGrenadines",
          "SanMarino",
          "SaoTomeandPrincipe",
          "SaudiArabia",
          "Senegal",
          "Serbia",
          "Seychelles",
          "SierraLeone",
          "Singapore",
          "Slovakia",
          "Slovenia",
          "Somalia",
          "SouthAfrica",
          "SouthKorea",
          "SouthSudan",
          "Spain",
          "SriLanka",
          "StMartin",
          "Sudan",
          "Suriname",
          "Sweden",
          "Switzerland",
          "Syria",
          "Taiwan",
          "Tanzania",
          "Thailand",
          "TheBahamas",
          "TheGambia",
          "TimorLeste",
          "Togo",
          "TrinidadandTobago",
          "Tunisia",
          "Turkey",
          "UK",
          "US",
          "Uganda",
          "Ukraine",
          "UnitedArabEmirates",
          "Uruguay",
          "Uzbekistan",
          "VaticanCity",
          "Venezuela",
          "Vietnam",
          "WestBankandGaza",
          "WesternSahara",
          "Yemen",
          "Zambia",
          "Zimbabwe",
          "occupiedPalestinianterritory"
         ],
         "text": [
          "No of Deaths:-30.0<br>No of recoverd:-54.0<br>No of Remaining Cases:-786.0",
          "No of Deaths:-26.0<br>No of recoverd:-277.0<br>No of Remaining Cases:-261.0",
          "No of Deaths:-348.0<br>No of recoverd:-783.0<br>No of Remaining Cases:-1485.0",
          "No of Deaths:-33.0<br>No of recoverd:-169.0<br>No of Remaining Cases:-531.0",
          "No of Deaths:-2.0<br>No of recoverd:-5.0<br>No of Remaining Cases:-17.0",
          "No of Deaths:-3.0<br>No of recoverd:-3.0<br>No of Remaining Cases:-23.0",
          "No of Deaths:-115.0<br>No of recoverd:-631.0<br>No of Remaining Cases:-1940.0",
          "No of Deaths:-18.0<br>No of recoverd:-358.0<br>No of Remaining Cases:-828.0",
          "No of Deaths:-0.0<br>No of recoverd:-0.0<br>No of Remaining Cases:-4.0",
          "No of Deaths:-25.0<br>No of recoverd:-1137.0<br>No of Remaining Cases:-2893.0",
          "No of Deaths:-410.0<br>No of recoverd:-8986.0<br>No of Remaining Cases:-9502.0",
          "No of Deaths:-15.0<br>No of recoverd:-460.0<br>No of Remaining Cases:-859.0",
          "No of Deaths:-8.0<br>No of recoverd:-6.0<br>No of Remaining Cases:-47.0",
          "No of Deaths:-0.0<br>No of recoverd:-0.0<br>No of Remaining Cases:-4.0",
          "No of Deaths:-7.0<br>No of recoverd:-703.0<br>No of Remaining Cases:-1008.0",
          "No of Deaths:-60.0<br>No of recoverd:-49.0<br>No of Remaining Cases:-1523.0",
          "No of Deaths:-5.0<br>No of recoverd:-15.0<br>No of Remaining Cases:-60.0",
          "No of Deaths:-40.0<br>No of recoverd:-203.0<br>No of Remaining Cases:-4001.0",
          "No of Deaths:-4857.0<br>No of recoverd:-7562.0<br>No of Remaining Cases:-27247.0",
          "No of Deaths:-2.0<br>No of recoverd:-0.0<br>No of Remaining Cases:-18.0",
          "No of Deaths:-1.0<br>No of recoverd:-18.0<br>No of Remaining Cases:-30.0",
          "No of Deaths:-0.0<br>No of recoverd:-2.0<br>No of Remaining Cases:-4.0",
          "No of Deaths:-29.0<br>No of recoverd:-14.0<br>No of Remaining Cases:-427.0",
          "No of Deaths:-43.0<br>No of recoverd:-277.0<br>No of Remaining Cases:-890.0",
          "No of Deaths:-1.0<br>No of recoverd:-0.0<br>No of Remaining Cases:-15.0",
          "No of Deaths:-1924.0<br>No of recoverd:-14026.0<br>No of Remaining Cases:-23257.0",
          "No of Deaths:-1.0<br>No of recoverd:-108.0<br>No of Remaining Cases:-109.0",
          "No of Deaths:-38.0<br>No of recoverd:-122.0<br>No of Remaining Cases:-678.0",
          "No of Deaths:-32.0<br>No of recoverd:-257.0<br>No of Remaining Cases:-351.0",
          "No of Deaths:-4.0<br>No of recoverd:-2.0<br>No of Remaining Cases:-83.0",
          "No of Deaths:-1.0<br>No of recoverd:-0.0<br>No of Remaining Cases:-5.0",
          "No of Deaths:-1.0<br>No of recoverd:-1.0<br>No of Remaining Cases:-55.0",
          "No of Deaths:-0.0<br>No of recoverd:-98.0<br>No of Remaining Cases:-88.0",
          "No of Deaths:-22.0<br>No of recoverd:-165.0<br>No of Remaining Cases:-832.0",
          "No of Deaths:-630.0<br>No of recoverd:-9698.0<br>No of Remaining Cases:-15857.0",
          "No of Deaths:-0.0<br>No of recoverd:-0.0<br>No of Remaining Cases:-1.0",
          "No of Deaths:-0.0<br>No of recoverd:-0.0<br>No of Remaining Cases:-1.0",
          "No of Deaths:-0.0<br>No of recoverd:-4.0<br>No of Remaining Cases:-8.0",
          "No of Deaths:-0.0<br>No of recoverd:-5.0<br>No of Remaining Cases:-22.0",
          "No of Deaths:-0.0<br>No of recoverd:-0.0<br>No of Remaining Cases:-1.0",
          "No of Deaths:-105.0<br>No of recoverd:-3299.0<br>No of Remaining Cases:-5508.0",
          "No of Deaths:-144.0<br>No of recoverd:-550.0<br>No of Remaining Cases:-2683.0",
          "No of Deaths:-5.0<br>No of recoverd:-11.0<br>No of Remaining Cases:-106.0",
          "No of Deaths:-22.0<br>No of recoverd:-23.0<br>No of Remaining Cases:-244.0",
          "No of Deaths:-4.0<br>No of recoverd:-74.0<br>No of Remaining Cases:-568.0",
          "No of Deaths:-35.0<br>No of recoverd:-529.0<br>No of Remaining Cases:-1289.0",
          "No of Deaths:-27.0<br>No of recoverd:-171.0<br>No of Remaining Cases:-691.0",
          "No of Deaths:-0.0<br>No of recoverd:-0.0<br>No of Remaining Cases:-1.0",
          "No of Deaths:-12.0<br>No of recoverd:-77.0<br>No of Remaining Cases:-658.0",
          "No of Deaths:-169.0<br>No of recoverd:-972.0<br>No of Remaining Cases:-5540.0",
          "No of Deaths:-321.0<br>No of recoverd:-3023.0<br>No of Remaining Cases:-4083.0",
          "No of Deaths:-12.0<br>No of recoverd:-644.0<br>No of Remaining Cases:-125.0",
          "No of Deaths:-2.0<br>No of recoverd:-73.0<br>No of Remaining Cases:-518.0",
          "No of Deaths:-0.0<br>No of recoverd:-8.0<br>No of Remaining Cases:-14.0",
          "No of Deaths:-196.0<br>No of recoverd:-215.0<br>No of Remaining Cases:-3540.0",
          "No of Deaths:-0.0<br>No of recoverd:-0.0<br>No of Remaining Cases:-1.0",
          "No of Deaths:-403.0<br>No of recoverd:-838.0<br>No of Remaining Cases:-7387.0",
          "No of Deaths:-196.0<br>No of recoverd:-596.0<br>No of Remaining Cases:-2077.0",
          "No of Deaths:-6.0<br>No of recoverd:-33.0<br>No of Remaining Cases:-131.0",
          "No of Deaths:-0.0<br>No of recoverd:-4.0<br>No of Remaining Cases:-47.0",
          "No of Deaths:-0.0<br>No of recoverd:-0.0<br>No of Remaining Cases:-35.0",
          "No of Deaths:-36.0<br>No of recoverd:-133.0<br>No of Remaining Cases:-1301.0",
          "No of Deaths:-1.0<br>No of recoverd:-8.0<br>No of Remaining Cases:-9.0",
          "No of Deaths:-3.0<br>No of recoverd:-15.0<br>No of Remaining Cases:-77.0",
          "No of Deaths:-0.0<br>No of recoverd:-0.0<br>No of Remaining Cases:-2.0",
          "No of Deaths:-0.0<br>No of recoverd:-0.0<br>No of Remaining Cases:-17.0",
          "No of Deaths:-75.0<br>No of recoverd:-1700.0<br>No of Remaining Cases:-2937.0",
          "No of Deaths:-17920.0<br>No of recoverd:-32812.0<br>No of Remaining Cases:-113148.0",
          "No of Deaths:-0.0<br>No of recoverd:-6.0<br>No of Remaining Cases:-15.0",
          "No of Deaths:-1.0<br>No of recoverd:-4.0<br>No of Remaining Cases:-76.0",
          "No of Deaths:-1.0<br>No of recoverd:-2.0<br>No of Remaining Cases:-7.0",
          "No of Deaths:-0.0<br>No of recoverd:-0.0<br>No of Remaining Cases:-1.0",
          "No of Deaths:-3.0<br>No of recoverd:-76.0<br>No of Remaining Cases:-272.0",
          "No of Deaths:-4052.0<br>No of recoverd:-77000.0<br>No of Remaining Cases:-74674.0",
          "No of Deaths:-8.0<br>No of recoverd:-83.0<br>No of Remaining Cases:-619.0",
          "No of Deaths:-0.0<br>No of recoverd:-1.0<br>No of Remaining Cases:-1.0",
          "No of Deaths:-105.0<br>No of recoverd:-269.0<br>No of Remaining Cases:-1938.0",
          "No of Deaths:-0.0<br>No of recoverd:-0.0<br>No of Remaining Cases:-1.0",
          "No of Deaths:-0.0<br>No of recoverd:-0.0<br>No of Remaining Cases:-14.0",
          "No of Deaths:-0.0<br>No of recoverd:-0.0<br>No of Remaining Cases:-53.0",
          "No of Deaths:-0.0<br>No of recoverd:-0.0<br>No of Remaining Cases:-3.0",
          "No of Deaths:-5.0<br>No of recoverd:-19.0<br>No of Remaining Cases:-177.0",
          "No of Deaths:-0.0<br>No of recoverd:-0.0<br>No of Remaining Cases:-1.0",
          "No of Deaths:-1.0<br>No of recoverd:-49.0<br>No of Remaining Cases:-389.0",
          "No of Deaths:-0.0<br>No of recoverd:-0.0<br>No of Remaining Cases:-43.0",
          "No of Deaths:-6.0<br>No of recoverd:-8.0<br>No of Remaining Cases:-47.0",
          "No of Deaths:-3.0<br>No of recoverd:-1.0<br>No of Remaining Cases:-41.0",
          "No of Deaths:-0.0<br>No of recoverd:-2.0<br>No of Remaining Cases:-7.0",
          "No of Deaths:-35.0<br>No of recoverd:-9.0<br>No of Remaining Cases:-417.0",
          "No of Deaths:-4.0<br>No of recoverd:-485.0<br>No of Remaining Cases:-719.0",
          "No of Deaths:-142.0<br>No of recoverd:-199.0<br>No of Remaining Cases:-1453.0",
          "No of Deaths:-8.0<br>No of recoverd:-1144.0<br>No of Remaining Cases:-1102.0",
          "No of Deaths:-448.0<br>No of recoverd:-1768.0<br>No of Remaining Cases:-11662.0",
          "No of Deaths:-496.0<br>No of recoverd:-548.0<br>No of Remaining Cases:-4968.0",
          "No of Deaths:-4869.0<br>No of recoverd:-52229.0<br>No of Remaining Cases:-38490.0",
          "No of Deaths:-80.0<br>No of recoverd:-856.0<br>No of Remaining Cases:-750.0",
          "No of Deaths:-486.0<br>No of recoverd:-77.0<br>No of Remaining Cases:-13194.0",
          "No of Deaths:-142.0<br>No of recoverd:-2818.0<br>No of Remaining Cases:-9940.0",
          "No of Deaths:-22170.0<br>No of recoverd:-40164.0<br>No of Remaining Cases:-128777.0",
          "No of Deaths:-6.0<br>No of recoverd:-146.0<br>No of Remaining Cases:-537.0",
          "No of Deaths:-5.0<br>No of recoverd:-21.0<br>No of Remaining Cases:-122.0",
          "No of Deaths:-178.0<br>No of recoverd:-901.0<br>No of Remaining Cases:-7725.0",
          "No of Deaths:-0.0<br>No of recoverd:-0.0<br>No of Remaining Cases:-2.0",
          "No of Deaths:-7.0<br>No of recoverd:-259.0<br>No of Remaining Cases:-254.0",
          "No of Deaths:-17.0<br>No of recoverd:-277.0<br>No of Remaining Cases:-1125.0",
          "No of Deaths:-11.0<br>No of recoverd:-53.0<br>No of Remaining Cases:-181.0",
          "No of Deaths:-11.0<br>No of recoverd:-79.0<br>No of Remaining Cases:-370.0",
          "No of Deaths:-3.0<br>No of recoverd:-225.0<br>No of Remaining Cases:-1299.0",
          "No of Deaths:-5.0<br>No of recoverd:-91.0<br>No of Remaining Cases:-375.0",
          "No of Deaths:-0.0<br>No of recoverd:-2.0<br>No of Remaining Cases:-19.0",
          "No of Deaths:-5.0<br>No of recoverd:-57.0<br>No of Remaining Cases:-641.0",
          "No of Deaths:-21.0<br>No of recoverd:-86.0<br>No of Remaining Cases:-577.0",
          "No of Deaths:-6.0<br>No of recoverd:-4.0<br>No of Remaining Cases:-55.0",
          "No of Deaths:-1.0<br>No of recoverd:-11.0<br>No of Remaining Cases:-39.0",
          "No of Deaths:-1.0<br>No of recoverd:-55.0<br>No of Remaining Cases:-77.0",
          "No of Deaths:-32.0<br>No of recoverd:-178.0<br>No of Remaining Cases:-972.0",
          "No of Deaths:-69.0<br>No of recoverd:-552.0<br>No of Remaining Cases:-2892.0",
          "No of Deaths:-2.0<br>No of recoverd:-0.0<br>No of Remaining Cases:-9.0",
          "No of Deaths:-0.0<br>No of recoverd:-16.0<br>No of Remaining Cases:-35.0",
          "No of Deaths:-0.0<br>No of recoverd:-33.0<br>No of Remaining Cases:-91.0",
          "No of Deaths:-3222.0<br>No of recoverd:-64435.0<br>No of Remaining Cases:-52554.0",
          "No of Deaths:-2.0<br>No of recoverd:-0.0<br>No of Remaining Cases:-16.0",
          "No of Deaths:-84.0<br>No of recoverd:-2766.0<br>No of Remaining Cases:-2657.0",
          "No of Deaths:-0.0<br>No of recoverd:-16.0<br>No of Remaining Cases:-13.0",
          "No of Deaths:-13.0<br>No of recoverd:-34.0<br>No of Remaining Cases:-137.0",
          "No of Deaths:-3.0<br>No of recoverd:-82.0<br>No of Remaining Cases:-355.0",
          "No of Deaths:-1.0<br>No of recoverd:-0.0<br>No of Remaining Cases:-32.0",
          "No of Deaths:-1.0<br>No of recoverd:-2.0<br>No of Remaining Cases:-5.0",
          "No of Deaths:-9.0<br>No of recoverd:-81.0<br>No of Remaining Cases:-295.0",
          "No of Deaths:-0.0<br>No of recoverd:-0.0<br>No of Remaining Cases:-7.0",
          "No of Deaths:-449.0<br>No of recoverd:-2125.0<br>No of Remaining Cases:-3722.0",
          "No of Deaths:-54.0<br>No of recoverd:-235.0<br>No of Remaining Cases:-1919.0",
          "No of Deaths:-3.0<br>No of recoverd:-12.0<br>No of Remaining Cases:-87.0",
          "No of Deaths:-0.0<br>No of recoverd:-5.0<br>No of Remaining Cases:-26.0",
          "No of Deaths:-4.0<br>No of recoverd:-55.0<br>No of Remaining Cases:-269.0",
          "No of Deaths:-130.0<br>No of recoverd:-249.0<br>No of Remaining Cases:-2034.0",
          "No of Deaths:-0.0<br>No of recoverd:-2.0<br>No of Remaining Cases:-29.0",
          "No of Deaths:-0.0<br>No of recoverd:-4.0<br>No of Remaining Cases:-13.0",
          "No of Deaths:-0.0<br>No of recoverd:-2.0<br>No of Remaining Cases:-15.0",
          "No of Deaths:-3315.0<br>No of recoverd:-250.0<br>No of Remaining Cases:-28964.0",
          "No of Deaths:-9.0<br>No of recoverd:-770.0<br>No of Remaining Cases:-930.0",
          "No of Deaths:-1.0<br>No of recoverd:-4.0<br>No of Remaining Cases:-8.0",
          "No of Deaths:-14.0<br>No of recoverd:-90.0<br>No of Remaining Cases:-494.0",
          "No of Deaths:-13.0<br>No of recoverd:-152.0<br>No of Remaining Cases:-290.0",
          "No of Deaths:-0.0<br>No of recoverd:-0.0<br>No of Remaining Cases:-1.0",
          "No of Deaths:-46.0<br>No of recoverd:-121.0<br>No of Remaining Cases:-960.0",
          "No of Deaths:-152.0<br>No of recoverd:-32.0<br>No of Remaining Cases:-6864.0",
          "No of Deaths:-4.0<br>No of recoverd:-176.0<br>No of Remaining Cases:-843.0",
          "No of Deaths:-8.0<br>No of recoverd:-567.0<br>No of Remaining Cases:-696.0",
          "No of Deaths:-128.0<br>No of recoverd:-1645.0<br>No of Remaining Cases:-5274.0",
          "No of Deaths:-0.0<br>No of recoverd:-0.0<br>No of Remaining Cases:-22.0",
          "No of Deaths:-103.0<br>No of recoverd:-75.0<br>No of Remaining Cases:-3676.0",
          "No of Deaths:-0.0<br>No of recoverd:-0.0<br>No of Remaining Cases:-7.0",
          "No of Deaths:-8.0<br>No of recoverd:-30.0<br>No of Remaining Cases:-144.0",
          "No of Deaths:-274.0<br>No of recoverd:-6120.0<br>No of Remaining Cases:-8367.0",
          "No of Deaths:-362.0<br>No of recoverd:-435.0<br>No of Remaining Cases:-5225.0",
          "No of Deaths:-314.0<br>No of recoverd:-774.0<br>No of Remaining Cases:-7144.0",
          "No of Deaths:-629.0<br>No of recoverd:-493.0<br>No of Remaining Cases:-18348.0",
          "No of Deaths:-0.0<br>No of recoverd:-0.0<br>No of Remaining Cases:-3.0",
          "No of Deaths:-7.0<br>No of recoverd:-415.0<br>No of Remaining Cases:-3688.0",
          "No of Deaths:-0.0<br>No of recoverd:-0.0<br>No of Remaining Cases:-21.0",
          "No of Deaths:-0.0<br>No of recoverd:-0.0<br>No of Remaining Cases:-1.0",
          "No of Deaths:-0.0<br>No of recoverd:-0.0<br>No of Remaining Cases:-45.0",
          "No of Deaths:-392.0<br>No of recoverd:-1357.0<br>No of Remaining Cases:-6350.0",
          "No of Deaths:-232.0<br>No of recoverd:-2304.0<br>No of Remaining Cases:-25634.0",
          "No of Deaths:-0.0<br>No of recoverd:-60.0<br>No of Remaining Cases:-111.0",
          "No of Deaths:-0.0<br>No of recoverd:-0.0<br>No of Remaining Cases:-3.0",
          "No of Deaths:-0.0<br>No of recoverd:-0.0<br>No of Remaining Cases:-14.0",
          "No of Deaths:-0.0<br>No of recoverd:-11.0<br>No of Remaining Cases:-14.0",
          "No of Deaths:-0.0<br>No of recoverd:-1.0<br>No of Remaining Cases:-11.0",
          "No of Deaths:-38.0<br>No of recoverd:-55.0<br>No of Remaining Cases:-371.0",
          "No of Deaths:-0.0<br>No of recoverd:-0.0<br>No of Remaining Cases:-4.0",
          "No of Deaths:-83.0<br>No of recoverd:-990.0<br>No of Remaining Cases:-5390.0",
          "No of Deaths:-2.0<br>No of recoverd:-194.0<br>No of Remaining Cases:-147.0",
          "No of Deaths:-103.0<br>No of recoverd:-15.0<br>No of Remaining Cases:-5318.0",
          "No of Deaths:-0.0<br>No of recoverd:-0.0<br>No of Remaining Cases:-11.0",
          "No of Deaths:-0.0<br>No of recoverd:-0.0<br>No of Remaining Cases:-15.0",
          "No of Deaths:-10.0<br>No of recoverd:-683.0<br>No of Remaining Cases:-3744.0",
          "No of Deaths:-8.0<br>No of recoverd:-167.0<br>No of Remaining Cases:-810.0",
          "No of Deaths:-61.0<br>No of recoverd:-174.0<br>No of Remaining Cases:-1094.0",
          "No of Deaths:-5.0<br>No of recoverd:-2.0<br>No of Remaining Cases:-78.0",
          "No of Deaths:-48.0<br>No of recoverd:-903.0<br>No of Remaining Cases:-2096.0",
          "No of Deaths:-229.0<br>No of recoverd:-7757.0<br>No of Remaining Cases:-7652.0",
          "No of Deaths:-0.0<br>No of recoverd:-0.0<br>No of Remaining Cases:-4.0",
          "No of Deaths:-19315.0<br>No of recoverd:-74797.0<br>No of Remaining Cases:-110151.0",
          "No of Deaths:-7.0<br>No of recoverd:-68.0<br>No of Remaining Cases:-175.0",
          "No of Deaths:-0.0<br>No of recoverd:-0.0<br>No of Remaining Cases:-2.0",
          "No of Deaths:-5.0<br>No of recoverd:-4.0<br>No of Remaining Cases:-28.0",
          "No of Deaths:-1.0<br>No of recoverd:-6.0<br>No of Remaining Cases:-10.0",
          "No of Deaths:-1333.0<br>No of recoverd:-550.0<br>No of Remaining Cases:-11990.0",
          "No of Deaths:-1281.0<br>No of recoverd:-15900.0<br>No of Remaining Cases:-14814.0",
          "No of Deaths:-2.0<br>No of recoverd:-5.0<br>No of Remaining Cases:-28.0",
          "No of Deaths:-6.0<br>No of recoverd:-155.0<br>No of Remaining Cases:-319.0",
          "No of Deaths:-4.0<br>No of recoverd:-11.0<br>No of Remaining Cases:-83.0",
          "No of Deaths:-46.0<br>No of recoverd:-1593.0<br>No of Remaining Cases:-1483.0",
          "No of Deaths:-0.0<br>No of recoverd:-0.0<br>No of Remaining Cases:-1.0",
          "No of Deaths:-0.0<br>No of recoverd:-0.0<br>No of Remaining Cases:-1.0",
          "No of Deaths:-0.0<br>No of recoverd:-1.0<br>No of Remaining Cases:-17.0",
          "No of Deaths:-5.0<br>No of recoverd:-45.0<br>No of Remaining Cases:-51.0",
          "No of Deaths:-8.0<br>No of recoverd:-20.0<br>No of Remaining Cases:-108.0",
          "No of Deaths:-37.0<br>No of recoverd:-43.0<br>No of Remaining Cases:-779.0",
          "No of Deaths:-1643.0<br>No of recoverd:-7089.0<br>No of Remaining Cases:-67104.0",
          "No of Deaths:-13729.0<br>No of recoverd:-344.0<br>No of Remaining Cases:-103093.0",
          "No of Deaths:-14832.0<br>No of recoverd:-54703.0<br>No of Remaining Cases:-223691.0",
          "No of Deaths:-0.0<br>No of recoverd:-20.0<br>No of Remaining Cases:-53.0",
          "No of Deaths:-116.0<br>No of recoverd:-186.0<br>No of Remaining Cases:-3975.0",
          "No of Deaths:-35.0<br>No of recoverd:-1095.0<br>No of Remaining Cases:-4730.0",
          "No of Deaths:-9.0<br>No of recoverd:-286.0<br>No of Remaining Cases:-310.0",
          "No of Deaths:-4.0<br>No of recoverd:-129.0<br>No of Remaining Cases:-1220.0",
          "No of Deaths:-0.0<br>No of recoverd:-0.0<br>No of Remaining Cases:-1.0",
          "No of Deaths:-9.0<br>No of recoverd:-111.0<br>No of Remaining Cases:-107.0",
          "No of Deaths:-0.0<br>No of recoverd:-177.0<br>No of Remaining Cases:-163.0",
          "No of Deaths:-2.0<br>No of recoverd:-63.0<br>No of Remaining Cases:-311.0",
          "No of Deaths:-0.0<br>No of recoverd:-0.0<br>No of Remaining Cases:-6.0",
          "No of Deaths:-0.0<br>No of recoverd:-0.0<br>No of Remaining Cases:-1.0",
          "No of Deaths:-2.0<br>No of recoverd:-30.0<br>No of Remaining Cases:-39.0",
          "No of Deaths:-3.0<br>No of recoverd:-1.0<br>No of Remaining Cases:-22.0",
          "No of Deaths:-0.0<br>No of recoverd:-0.0<br>No of Remaining Cases:-25.0"
         ],
         "type": "choropleth",
         "z": [
          840,
          518,
          2268,
          673,
          19,
          23,
          2571,
          1159,
          4,
          2897,
          14476,
          1283,
          53,
          4,
          1700,
          1572,
          75,
          4204,
          34809,
          18,
          35,
          5,
          441,
          1167,
          15,
          30425,
          136,
          800,
          546,
          85,
          5,
          56,
          122,
          996,
          15857,
          1,
          1,
          12,
          27,
          1,
          8807,
          3233,
          117,
          267,
          642,
          1791,
          862,
          1,
          735,
          6433,
          6879,
          712,
          591,
          16,
          3755,
          1,
          8225,
          2673,
          164,
          51,
          35,
          1434,
          16,
          92,
          2,
          17,
          3369,
          145960,
          18,
          80,
          9,
          1,
          348,
          137698,
          641,
          1,
          2207,
          1,
          14,
          53,
          3,
          196,
          1,
          438,
          43,
          55,
          41,
          8,
          426,
          1017,
          1652,
          1739,
          13430,
          5516,
          77995,
          1434,
          13271,
          12758,
          168941,
          654,
          143,
          8626,
          2,
          402,
          1402,
          234,
          449,
          1524,
          466,
          19,
          675,
          663,
          59,
          49,
          79,
          1128,
          3444,
          9,
          45,
          111,
          67803,
          16,
          5182,
          25,
          171,
          412,
          32,
          7,
          324,
          7,
          5847,
          2154,
          93,
          31,
          303,
          2283,
          31,
          16,
          16,
          29214,
          1401,
          9,
          584,
          442,
          1,
          1081,
          6896,
          1019,
          712,
          6919,
          22,
          3751,
          7,
          174,
          12491,
          5660,
          7918,
          18841,
          3,
          4103,
          21,
          1,
          45,
          7707,
          27938,
          138,
          3,
          14,
          15,
          12,
          426,
          4,
          6380,
          335,
          5318,
          11,
          15,
          4427,
          977,
          1268,
          80,
          2605,
          10613,
          4,
          184948,
          238,
          2,
          32,
          10,
          12540,
          26732,
          33,
          395,
          94,
          2672,
          1,
          1,
          18,
          81,
          114,
          822,
          74193,
          103093,
          223691,
          55,
          4161,
          5825,
          502,
          1349,
          1,
          204,
          268,
          374,
          6,
          1,
          48,
          23,
          25
         ]
        }
       ],
       "layout": {
        "geo": {
         "projection": {
          "type": "equirectangular"
         },
         "showframe": false
        },
        "template": {
         "data": {
          "bar": [
           {
            "error_x": {
             "color": "#2a3f5f"
            },
            "error_y": {
             "color": "#2a3f5f"
            },
            "marker": {
             "line": {
              "color": "#E5ECF6",
              "width": 0.5
             }
            },
            "type": "bar"
           }
          ],
          "barpolar": [
           {
            "marker": {
             "line": {
              "color": "#E5ECF6",
              "width": 0.5
             }
            },
            "type": "barpolar"
           }
          ],
          "carpet": [
           {
            "aaxis": {
             "endlinecolor": "#2a3f5f",
             "gridcolor": "white",
             "linecolor": "white",
             "minorgridcolor": "white",
             "startlinecolor": "#2a3f5f"
            },
            "baxis": {
             "endlinecolor": "#2a3f5f",
             "gridcolor": "white",
             "linecolor": "white",
             "minorgridcolor": "white",
             "startlinecolor": "#2a3f5f"
            },
            "type": "carpet"
           }
          ],
          "choropleth": [
           {
            "colorbar": {
             "outlinewidth": 0,
             "ticks": ""
            },
            "type": "choropleth"
           }
          ],
          "contour": [
           {
            "colorbar": {
             "outlinewidth": 0,
             "ticks": ""
            },
            "colorscale": [
             [
              0,
              "#0d0887"
             ],
             [
              0.1111111111111111,
              "#46039f"
             ],
             [
              0.2222222222222222,
              "#7201a8"
             ],
             [
              0.3333333333333333,
              "#9c179e"
             ],
             [
              0.4444444444444444,
              "#bd3786"
             ],
             [
              0.5555555555555556,
              "#d8576b"
             ],
             [
              0.6666666666666666,
              "#ed7953"
             ],
             [
              0.7777777777777778,
              "#fb9f3a"
             ],
             [
              0.8888888888888888,
              "#fdca26"
             ],
             [
              1,
              "#f0f921"
             ]
            ],
            "type": "contour"
           }
          ],
          "contourcarpet": [
           {
            "colorbar": {
             "outlinewidth": 0,
             "ticks": ""
            },
            "type": "contourcarpet"
           }
          ],
          "heatmap": [
           {
            "colorbar": {
             "outlinewidth": 0,
             "ticks": ""
            },
            "colorscale": [
             [
              0,
              "#0d0887"
             ],
             [
              0.1111111111111111,
              "#46039f"
             ],
             [
              0.2222222222222222,
              "#7201a8"
             ],
             [
              0.3333333333333333,
              "#9c179e"
             ],
             [
              0.4444444444444444,
              "#bd3786"
             ],
             [
              0.5555555555555556,
              "#d8576b"
             ],
             [
              0.6666666666666666,
              "#ed7953"
             ],
             [
              0.7777777777777778,
              "#fb9f3a"
             ],
             [
              0.8888888888888888,
              "#fdca26"
             ],
             [
              1,
              "#f0f921"
             ]
            ],
            "type": "heatmap"
           }
          ],
          "heatmapgl": [
           {
            "colorbar": {
             "outlinewidth": 0,
             "ticks": ""
            },
            "colorscale": [
             [
              0,
              "#0d0887"
             ],
             [
              0.1111111111111111,
              "#46039f"
             ],
             [
              0.2222222222222222,
              "#7201a8"
             ],
             [
              0.3333333333333333,
              "#9c179e"
             ],
             [
              0.4444444444444444,
              "#bd3786"
             ],
             [
              0.5555555555555556,
              "#d8576b"
             ],
             [
              0.6666666666666666,
              "#ed7953"
             ],
             [
              0.7777777777777778,
              "#fb9f3a"
             ],
             [
              0.8888888888888888,
              "#fdca26"
             ],
             [
              1,
              "#f0f921"
             ]
            ],
            "type": "heatmapgl"
           }
          ],
          "histogram": [
           {
            "marker": {
             "colorbar": {
              "outlinewidth": 0,
              "ticks": ""
             }
            },
            "type": "histogram"
           }
          ],
          "histogram2d": [
           {
            "colorbar": {
             "outlinewidth": 0,
             "ticks": ""
            },
            "colorscale": [
             [
              0,
              "#0d0887"
             ],
             [
              0.1111111111111111,
              "#46039f"
             ],
             [
              0.2222222222222222,
              "#7201a8"
             ],
             [
              0.3333333333333333,
              "#9c179e"
             ],
             [
              0.4444444444444444,
              "#bd3786"
             ],
             [
              0.5555555555555556,
              "#d8576b"
             ],
             [
              0.6666666666666666,
              "#ed7953"
             ],
             [
              0.7777777777777778,
              "#fb9f3a"
             ],
             [
              0.8888888888888888,
              "#fdca26"
             ],
             [
              1,
              "#f0f921"
             ]
            ],
            "type": "histogram2d"
           }
          ],
          "histogram2dcontour": [
           {
            "colorbar": {
             "outlinewidth": 0,
             "ticks": ""
            },
            "colorscale": [
             [
              0,
              "#0d0887"
             ],
             [
              0.1111111111111111,
              "#46039f"
             ],
             [
              0.2222222222222222,
              "#7201a8"
             ],
             [
              0.3333333333333333,
              "#9c179e"
             ],
             [
              0.4444444444444444,
              "#bd3786"
             ],
             [
              0.5555555555555556,
              "#d8576b"
             ],
             [
              0.6666666666666666,
              "#ed7953"
             ],
             [
              0.7777777777777778,
              "#fb9f3a"
             ],
             [
              0.8888888888888888,
              "#fdca26"
             ],
             [
              1,
              "#f0f921"
             ]
            ],
            "type": "histogram2dcontour"
           }
          ],
          "mesh3d": [
           {
            "colorbar": {
             "outlinewidth": 0,
             "ticks": ""
            },
            "type": "mesh3d"
           }
          ],
          "parcoords": [
           {
            "line": {
             "colorbar": {
              "outlinewidth": 0,
              "ticks": ""
             }
            },
            "type": "parcoords"
           }
          ],
          "pie": [
           {
            "automargin": true,
            "type": "pie"
           }
          ],
          "scatter": [
           {
            "marker": {
             "colorbar": {
              "outlinewidth": 0,
              "ticks": ""
             }
            },
            "type": "scatter"
           }
          ],
          "scatter3d": [
           {
            "line": {
             "colorbar": {
              "outlinewidth": 0,
              "ticks": ""
             }
            },
            "marker": {
             "colorbar": {
              "outlinewidth": 0,
              "ticks": ""
             }
            },
            "type": "scatter3d"
           }
          ],
          "scattercarpet": [
           {
            "marker": {
             "colorbar": {
              "outlinewidth": 0,
              "ticks": ""
             }
            },
            "type": "scattercarpet"
           }
          ],
          "scattergeo": [
           {
            "marker": {
             "colorbar": {
              "outlinewidth": 0,
              "ticks": ""
             }
            },
            "type": "scattergeo"
           }
          ],
          "scattergl": [
           {
            "marker": {
             "colorbar": {
              "outlinewidth": 0,
              "ticks": ""
             }
            },
            "type": "scattergl"
           }
          ],
          "scattermapbox": [
           {
            "marker": {
             "colorbar": {
              "outlinewidth": 0,
              "ticks": ""
             }
            },
            "type": "scattermapbox"
           }
          ],
          "scatterpolar": [
           {
            "marker": {
             "colorbar": {
              "outlinewidth": 0,
              "ticks": ""
             }
            },
            "type": "scatterpolar"
           }
          ],
          "scatterpolargl": [
           {
            "marker": {
             "colorbar": {
              "outlinewidth": 0,
              "ticks": ""
             }
            },
            "type": "scatterpolargl"
           }
          ],
          "scatterternary": [
           {
            "marker": {
             "colorbar": {
              "outlinewidth": 0,
              "ticks": ""
             }
            },
            "type": "scatterternary"
           }
          ],
          "surface": [
           {
            "colorbar": {
             "outlinewidth": 0,
             "ticks": ""
            },
            "colorscale": [
             [
              0,
              "#0d0887"
             ],
             [
              0.1111111111111111,
              "#46039f"
             ],
             [
              0.2222222222222222,
              "#7201a8"
             ],
             [
              0.3333333333333333,
              "#9c179e"
             ],
             [
              0.4444444444444444,
              "#bd3786"
             ],
             [
              0.5555555555555556,
              "#d8576b"
             ],
             [
              0.6666666666666666,
              "#ed7953"
             ],
             [
              0.7777777777777778,
              "#fb9f3a"
             ],
             [
              0.8888888888888888,
              "#fdca26"
             ],
             [
              1,
              "#f0f921"
             ]
            ],
            "type": "surface"
           }
          ],
          "table": [
           {
            "cells": {
             "fill": {
              "color": "#EBF0F8"
             },
             "line": {
              "color": "white"
             }
            },
            "header": {
             "fill": {
              "color": "#C8D4E3"
             },
             "line": {
              "color": "white"
             }
            },
            "type": "table"
           }
          ]
         },
         "layout": {
          "annotationdefaults": {
           "arrowcolor": "#2a3f5f",
           "arrowhead": 0,
           "arrowwidth": 1
          },
          "coloraxis": {
           "colorbar": {
            "outlinewidth": 0,
            "ticks": ""
           }
          },
          "colorscale": {
           "diverging": [
            [
             0,
             "#8e0152"
            ],
            [
             0.1,
             "#c51b7d"
            ],
            [
             0.2,
             "#de77ae"
            ],
            [
             0.3,
             "#f1b6da"
            ],
            [
             0.4,
             "#fde0ef"
            ],
            [
             0.5,
             "#f7f7f7"
            ],
            [
             0.6,
             "#e6f5d0"
            ],
            [
             0.7,
             "#b8e186"
            ],
            [
             0.8,
             "#7fbc41"
            ],
            [
             0.9,
             "#4d9221"
            ],
            [
             1,
             "#276419"
            ]
           ],
           "sequential": [
            [
             0,
             "#0d0887"
            ],
            [
             0.1111111111111111,
             "#46039f"
            ],
            [
             0.2222222222222222,
             "#7201a8"
            ],
            [
             0.3333333333333333,
             "#9c179e"
            ],
            [
             0.4444444444444444,
             "#bd3786"
            ],
            [
             0.5555555555555556,
             "#d8576b"
            ],
            [
             0.6666666666666666,
             "#ed7953"
            ],
            [
             0.7777777777777778,
             "#fb9f3a"
            ],
            [
             0.8888888888888888,
             "#fdca26"
            ],
            [
             1,
             "#f0f921"
            ]
           ],
           "sequentialminus": [
            [
             0,
             "#0d0887"
            ],
            [
             0.1111111111111111,
             "#46039f"
            ],
            [
             0.2222222222222222,
             "#7201a8"
            ],
            [
             0.3333333333333333,
             "#9c179e"
            ],
            [
             0.4444444444444444,
             "#bd3786"
            ],
            [
             0.5555555555555556,
             "#d8576b"
            ],
            [
             0.6666666666666666,
             "#ed7953"
            ],
            [
             0.7777777777777778,
             "#fb9f3a"
            ],
            [
             0.8888888888888888,
             "#fdca26"
            ],
            [
             1,
             "#f0f921"
            ]
           ]
          },
          "colorway": [
           "#636efa",
           "#EF553B",
           "#00cc96",
           "#ab63fa",
           "#FFA15A",
           "#19d3f3",
           "#FF6692",
           "#B6E880",
           "#FF97FF",
           "#FECB52"
          ],
          "font": {
           "color": "#2a3f5f"
          },
          "geo": {
           "bgcolor": "white",
           "lakecolor": "white",
           "landcolor": "#E5ECF6",
           "showlakes": true,
           "showland": true,
           "subunitcolor": "white"
          },
          "hoverlabel": {
           "align": "left"
          },
          "hovermode": "closest",
          "mapbox": {
           "style": "light"
          },
          "paper_bgcolor": "white",
          "plot_bgcolor": "#E5ECF6",
          "polar": {
           "angularaxis": {
            "gridcolor": "white",
            "linecolor": "white",
            "ticks": ""
           },
           "bgcolor": "#E5ECF6",
           "radialaxis": {
            "gridcolor": "white",
            "linecolor": "white",
            "ticks": ""
           }
          },
          "scene": {
           "xaxis": {
            "backgroundcolor": "#E5ECF6",
            "gridcolor": "white",
            "gridwidth": 2,
            "linecolor": "white",
            "showbackground": true,
            "ticks": "",
            "zerolinecolor": "white"
           },
           "yaxis": {
            "backgroundcolor": "#E5ECF6",
            "gridcolor": "white",
            "gridwidth": 2,
            "linecolor": "white",
            "showbackground": true,
            "ticks": "",
            "zerolinecolor": "white"
           },
           "zaxis": {
            "backgroundcolor": "#E5ECF6",
            "gridcolor": "white",
            "gridwidth": 2,
            "linecolor": "white",
            "showbackground": true,
            "ticks": "",
            "zerolinecolor": "white"
           }
          },
          "shapedefaults": {
           "line": {
            "color": "#2a3f5f"
           }
          },
          "ternary": {
           "aaxis": {
            "gridcolor": "white",
            "linecolor": "white",
            "ticks": ""
           },
           "baxis": {
            "gridcolor": "white",
            "linecolor": "white",
            "ticks": ""
           },
           "bgcolor": "#E5ECF6",
           "caxis": {
            "gridcolor": "white",
            "linecolor": "white",
            "ticks": ""
           }
          },
          "title": {
           "x": 0.05
          },
          "xaxis": {
           "automargin": true,
           "gridcolor": "white",
           "linecolor": "white",
           "ticks": "",
           "title": {
            "standoff": 15
           },
           "zerolinecolor": "white",
           "zerolinewidth": 2
          },
          "yaxis": {
           "automargin": true,
           "gridcolor": "white",
           "linecolor": "white",
           "ticks": "",
           "title": {
            "standoff": 15
           },
           "zerolinecolor": "white",
           "zerolinewidth": 2
          }
         }
        },
        "title": {
         "text": "Covid 19 Cases"
        }
       }
      },
      "text/html": [
       "<div>\n",
       "        \n",
       "        \n",
       "            <div id=\"239d7983-a770-4e2c-8abe-f27d786898a5\" class=\"plotly-graph-div\" style=\"height:525px; width:100%;\"></div>\n",
       "            <script type=\"text/javascript\">\n",
       "                require([\"plotly\"], function(Plotly) {\n",
       "                    window.PLOTLYENV=window.PLOTLYENV || {};\n",
       "                    \n",
       "                if (document.getElementById(\"239d7983-a770-4e2c-8abe-f27d786898a5\")) {\n",
       "                    Plotly.newPlot(\n",
       "                        '239d7983-a770-4e2c-8abe-f27d786898a5',\n",
       "                        [{\"colorbar\": {\"title\": {\"text\": \"Number of Confirmed Corona Cases\"}}, \"locationmode\": \"country names\", \"locations\": [\"Afghanistan\", \"Albania\", \"Algeria\", \"Andorra\", \"Angola\", \"AntiguaandBarbuda\", \"Argentina\", \"Armenia\", \"Aruba\", \"Australia\", \"Austria\", \"Azerbaijan\", \"Bahamas\", \"BahamasThe\", \"Bahrain\", \"Bangladesh\", \"Barbados\", \"Belarus\", \"Belgium\", \"Belize\", \"Benin\", \"Bhutan\", \"Bolivia\", \"BosniaandHerzegovina\", \"Botswana\", \"Brazil\", \"Brunei\", \"Bulgaria\", \"BurkinaFaso\", \"Burma\", \"Burundi\", \"CaboVerde\", \"Cambodia\", \"Cameroon\", \"Canada\", \"CapeVerde\", \"CaymanIslands\", \"CentralAfricanRepublic\", \"Chad\", \"ChannelIslands\", \"Chile\", \"Colombia\", \"CongoBrazzaville\", \"CongoKinshasa\", \"CostaRica\", \"Croatia\", \"Cuba\", \"Curacao\", \"Cyprus\", \"CzechRepublic\", \"Denmark\", \"DiamondPrincess\", \"Djibouti\", \"Dominica\", \"DominicanRepublic\", \"EastTimor\", \"Ecuador\", \"Egypt\", \"ElSalvador\", \"EquatorialGuinea\", \"Eritrea\", \"Estonia\", \"Eswatini\", \"Ethiopia\", \"FaroeIslands\", \"Fiji\", \"Finland\", \"France\", \"FrenchGuiana\", \"Gabon\", \"Gambia\", \"GambiaThe\", \"Georgia\", \"Germany\", \"Ghana\", \"Gibraltar\", \"Greece\", \"Greenland\", \"Grenada\", \"Guadeloupe\", \"Guam\", \"Guatemala\", \"Guernsey\", \"Guinea\", \"GuineaBissau\", \"Guyana\", \"Haiti\", \"HolySee\", \"Honduras\", \"HongKong\", \"Hungary\", \"Iceland\", \"India\", \"Indonesia\", \"Iran\", \"Iraq\", \"Ireland\", \"Israel\", \"Italy\", \"IvoryCoast\", \"Jamaica\", \"Japan\", \"Jersey\", \"Jordan\", \"Kazakhstan\", \"Kenya\", \"Kosovo\", \"Kuwait\", \"Kyrgyzstan\", \"Laos\", \"Latvia\", \"Lebanon\", \"Liberia\", \"Libya\", \"Liechtenstein\", \"Lithuania\", \"Luxembourg\", \"MSZaandam\", \"Macau\", \"Madagascar\", \"MainlandChina\", \"Malawi\", \"Malaysia\", \"Maldives\", \"Mali\", \"Malta\", \"Martinique\", \"Mauritania\", \"Mauritius\", \"Mayotte\", \"Mexico\", \"Moldova\", \"Monaco\", \"Mongolia\", \"Montenegro\", \"Morocco\", \"Mozambique\", \"Namibia\", \"Nepal\", \"Netherlands\", \"NewZealand\", \"Nicaragua\", \"Niger\", \"Nigeria\", \"NorthIreland\", \"NorthMacedonia\", \"Norway\", \"Oman\", \"Others\", \"Pakistan\", \"Palestine\", \"Panama\", \"PapuaNewGuinea\", \"Paraguay\", \"Peru\", \"Philippines\", \"Poland\", \"Portugal\", \"PuertoRico\", \"Qatar\", \"RepublicofIreland\", \"RepublicoftheCongo\", \"Reunion\", \"Romania\", \"Russia\", \"Rwanda\", \"SaintBarthelemy\", \"SaintKittsandNevis\", \"SaintLucia\", \"SaintVincentandtheGrenadines\", \"SanMarino\", \"SaoTomeandPrincipe\", \"SaudiArabia\", \"Senegal\", \"Serbia\", \"Seychelles\", \"SierraLeone\", \"Singapore\", \"Slovakia\", \"Slovenia\", \"Somalia\", \"SouthAfrica\", \"SouthKorea\", \"SouthSudan\", \"Spain\", \"SriLanka\", \"StMartin\", \"Sudan\", \"Suriname\", \"Sweden\", \"Switzerland\", \"Syria\", \"Taiwan\", \"Tanzania\", \"Thailand\", \"TheBahamas\", \"TheGambia\", \"TimorLeste\", \"Togo\", \"TrinidadandTobago\", \"Tunisia\", \"Turkey\", \"UK\", \"US\", \"Uganda\", \"Ukraine\", \"UnitedArabEmirates\", \"Uruguay\", \"Uzbekistan\", \"VaticanCity\", \"Venezuela\", \"Vietnam\", \"WestBankandGaza\", \"WesternSahara\", \"Yemen\", \"Zambia\", \"Zimbabwe\", \"occupiedPalestinianterritory\"], \"text\": [\"No of Deaths:-30.0<br>No of recoverd:-54.0<br>No of Remaining Cases:-786.0\", \"No of Deaths:-26.0<br>No of recoverd:-277.0<br>No of Remaining Cases:-261.0\", \"No of Deaths:-348.0<br>No of recoverd:-783.0<br>No of Remaining Cases:-1485.0\", \"No of Deaths:-33.0<br>No of recoverd:-169.0<br>No of Remaining Cases:-531.0\", \"No of Deaths:-2.0<br>No of recoverd:-5.0<br>No of Remaining Cases:-17.0\", \"No of Deaths:-3.0<br>No of recoverd:-3.0<br>No of Remaining Cases:-23.0\", \"No of Deaths:-115.0<br>No of recoverd:-631.0<br>No of Remaining Cases:-1940.0\", \"No of Deaths:-18.0<br>No of recoverd:-358.0<br>No of Remaining Cases:-828.0\", \"No of Deaths:-0.0<br>No of recoverd:-0.0<br>No of Remaining Cases:-4.0\", \"No of Deaths:-25.0<br>No of recoverd:-1137.0<br>No of Remaining Cases:-2893.0\", \"No of Deaths:-410.0<br>No of recoverd:-8986.0<br>No of Remaining Cases:-9502.0\", \"No of Deaths:-15.0<br>No of recoverd:-460.0<br>No of Remaining Cases:-859.0\", \"No of Deaths:-8.0<br>No of recoverd:-6.0<br>No of Remaining Cases:-47.0\", \"No of Deaths:-0.0<br>No of recoverd:-0.0<br>No of Remaining Cases:-4.0\", \"No of Deaths:-7.0<br>No of recoverd:-703.0<br>No of Remaining Cases:-1008.0\", \"No of Deaths:-60.0<br>No of recoverd:-49.0<br>No of Remaining Cases:-1523.0\", \"No of Deaths:-5.0<br>No of recoverd:-15.0<br>No of Remaining Cases:-60.0\", \"No of Deaths:-40.0<br>No of recoverd:-203.0<br>No of Remaining Cases:-4001.0\", \"No of Deaths:-4857.0<br>No of recoverd:-7562.0<br>No of Remaining Cases:-27247.0\", \"No of Deaths:-2.0<br>No of recoverd:-0.0<br>No of Remaining Cases:-18.0\", \"No of Deaths:-1.0<br>No of recoverd:-18.0<br>No of Remaining Cases:-30.0\", \"No of Deaths:-0.0<br>No of recoverd:-2.0<br>No of Remaining Cases:-4.0\", \"No of Deaths:-29.0<br>No of recoverd:-14.0<br>No of Remaining Cases:-427.0\", \"No of Deaths:-43.0<br>No of recoverd:-277.0<br>No of Remaining Cases:-890.0\", \"No of Deaths:-1.0<br>No of recoverd:-0.0<br>No of Remaining Cases:-15.0\", \"No of Deaths:-1924.0<br>No of recoverd:-14026.0<br>No of Remaining Cases:-23257.0\", \"No of Deaths:-1.0<br>No of recoverd:-108.0<br>No of Remaining Cases:-109.0\", \"No of Deaths:-38.0<br>No of recoverd:-122.0<br>No of Remaining Cases:-678.0\", \"No of Deaths:-32.0<br>No of recoverd:-257.0<br>No of Remaining Cases:-351.0\", \"No of Deaths:-4.0<br>No of recoverd:-2.0<br>No of Remaining Cases:-83.0\", \"No of Deaths:-1.0<br>No of recoverd:-0.0<br>No of Remaining Cases:-5.0\", \"No of Deaths:-1.0<br>No of recoverd:-1.0<br>No of Remaining Cases:-55.0\", \"No of Deaths:-0.0<br>No of recoverd:-98.0<br>No of Remaining Cases:-88.0\", \"No of Deaths:-22.0<br>No of recoverd:-165.0<br>No of Remaining Cases:-832.0\", \"No of Deaths:-630.0<br>No of recoverd:-9698.0<br>No of Remaining Cases:-15857.0\", \"No of Deaths:-0.0<br>No of recoverd:-0.0<br>No of Remaining Cases:-1.0\", \"No of Deaths:-0.0<br>No of recoverd:-0.0<br>No of Remaining Cases:-1.0\", \"No of Deaths:-0.0<br>No of recoverd:-4.0<br>No of Remaining Cases:-8.0\", \"No of Deaths:-0.0<br>No of recoverd:-5.0<br>No of Remaining Cases:-22.0\", \"No of Deaths:-0.0<br>No of recoverd:-0.0<br>No of Remaining Cases:-1.0\", \"No of Deaths:-105.0<br>No of recoverd:-3299.0<br>No of Remaining Cases:-5508.0\", \"No of Deaths:-144.0<br>No of recoverd:-550.0<br>No of Remaining Cases:-2683.0\", \"No of Deaths:-5.0<br>No of recoverd:-11.0<br>No of Remaining Cases:-106.0\", \"No of Deaths:-22.0<br>No of recoverd:-23.0<br>No of Remaining Cases:-244.0\", \"No of Deaths:-4.0<br>No of recoverd:-74.0<br>No of Remaining Cases:-568.0\", \"No of Deaths:-35.0<br>No of recoverd:-529.0<br>No of Remaining Cases:-1289.0\", \"No of Deaths:-27.0<br>No of recoverd:-171.0<br>No of Remaining Cases:-691.0\", \"No of Deaths:-0.0<br>No of recoverd:-0.0<br>No of Remaining Cases:-1.0\", \"No of Deaths:-12.0<br>No of recoverd:-77.0<br>No of Remaining Cases:-658.0\", \"No of Deaths:-169.0<br>No of recoverd:-972.0<br>No of Remaining Cases:-5540.0\", \"No of Deaths:-321.0<br>No of recoverd:-3023.0<br>No of Remaining Cases:-4083.0\", \"No of Deaths:-12.0<br>No of recoverd:-644.0<br>No of Remaining Cases:-125.0\", \"No of Deaths:-2.0<br>No of recoverd:-73.0<br>No of Remaining Cases:-518.0\", \"No of Deaths:-0.0<br>No of recoverd:-8.0<br>No of Remaining Cases:-14.0\", \"No of Deaths:-196.0<br>No of recoverd:-215.0<br>No of Remaining Cases:-3540.0\", \"No of Deaths:-0.0<br>No of recoverd:-0.0<br>No of Remaining Cases:-1.0\", \"No of Deaths:-403.0<br>No of recoverd:-838.0<br>No of Remaining Cases:-7387.0\", \"No of Deaths:-196.0<br>No of recoverd:-596.0<br>No of Remaining Cases:-2077.0\", \"No of Deaths:-6.0<br>No of recoverd:-33.0<br>No of Remaining Cases:-131.0\", \"No of Deaths:-0.0<br>No of recoverd:-4.0<br>No of Remaining Cases:-47.0\", \"No of Deaths:-0.0<br>No of recoverd:-0.0<br>No of Remaining Cases:-35.0\", \"No of Deaths:-36.0<br>No of recoverd:-133.0<br>No of Remaining Cases:-1301.0\", \"No of Deaths:-1.0<br>No of recoverd:-8.0<br>No of Remaining Cases:-9.0\", \"No of Deaths:-3.0<br>No of recoverd:-15.0<br>No of Remaining Cases:-77.0\", \"No of Deaths:-0.0<br>No of recoverd:-0.0<br>No of Remaining Cases:-2.0\", \"No of Deaths:-0.0<br>No of recoverd:-0.0<br>No of Remaining Cases:-17.0\", \"No of Deaths:-75.0<br>No of recoverd:-1700.0<br>No of Remaining Cases:-2937.0\", \"No of Deaths:-17920.0<br>No of recoverd:-32812.0<br>No of Remaining Cases:-113148.0\", \"No of Deaths:-0.0<br>No of recoverd:-6.0<br>No of Remaining Cases:-15.0\", \"No of Deaths:-1.0<br>No of recoverd:-4.0<br>No of Remaining Cases:-76.0\", \"No of Deaths:-1.0<br>No of recoverd:-2.0<br>No of Remaining Cases:-7.0\", \"No of Deaths:-0.0<br>No of recoverd:-0.0<br>No of Remaining Cases:-1.0\", \"No of Deaths:-3.0<br>No of recoverd:-76.0<br>No of Remaining Cases:-272.0\", \"No of Deaths:-4052.0<br>No of recoverd:-77000.0<br>No of Remaining Cases:-74674.0\", \"No of Deaths:-8.0<br>No of recoverd:-83.0<br>No of Remaining Cases:-619.0\", \"No of Deaths:-0.0<br>No of recoverd:-1.0<br>No of Remaining Cases:-1.0\", \"No of Deaths:-105.0<br>No of recoverd:-269.0<br>No of Remaining Cases:-1938.0\", \"No of Deaths:-0.0<br>No of recoverd:-0.0<br>No of Remaining Cases:-1.0\", \"No of Deaths:-0.0<br>No of recoverd:-0.0<br>No of Remaining Cases:-14.0\", \"No of Deaths:-0.0<br>No of recoverd:-0.0<br>No of Remaining Cases:-53.0\", \"No of Deaths:-0.0<br>No of recoverd:-0.0<br>No of Remaining Cases:-3.0\", \"No of Deaths:-5.0<br>No of recoverd:-19.0<br>No of Remaining Cases:-177.0\", \"No of Deaths:-0.0<br>No of recoverd:-0.0<br>No of Remaining Cases:-1.0\", \"No of Deaths:-1.0<br>No of recoverd:-49.0<br>No of Remaining Cases:-389.0\", \"No of Deaths:-0.0<br>No of recoverd:-0.0<br>No of Remaining Cases:-43.0\", \"No of Deaths:-6.0<br>No of recoverd:-8.0<br>No of Remaining Cases:-47.0\", \"No of Deaths:-3.0<br>No of recoverd:-1.0<br>No of Remaining Cases:-41.0\", \"No of Deaths:-0.0<br>No of recoverd:-2.0<br>No of Remaining Cases:-7.0\", \"No of Deaths:-35.0<br>No of recoverd:-9.0<br>No of Remaining Cases:-417.0\", \"No of Deaths:-4.0<br>No of recoverd:-485.0<br>No of Remaining Cases:-719.0\", \"No of Deaths:-142.0<br>No of recoverd:-199.0<br>No of Remaining Cases:-1453.0\", \"No of Deaths:-8.0<br>No of recoverd:-1144.0<br>No of Remaining Cases:-1102.0\", \"No of Deaths:-448.0<br>No of recoverd:-1768.0<br>No of Remaining Cases:-11662.0\", \"No of Deaths:-496.0<br>No of recoverd:-548.0<br>No of Remaining Cases:-4968.0\", \"No of Deaths:-4869.0<br>No of recoverd:-52229.0<br>No of Remaining Cases:-38490.0\", \"No of Deaths:-80.0<br>No of recoverd:-856.0<br>No of Remaining Cases:-750.0\", \"No of Deaths:-486.0<br>No of recoverd:-77.0<br>No of Remaining Cases:-13194.0\", \"No of Deaths:-142.0<br>No of recoverd:-2818.0<br>No of Remaining Cases:-9940.0\", \"No of Deaths:-22170.0<br>No of recoverd:-40164.0<br>No of Remaining Cases:-128777.0\", \"No of Deaths:-6.0<br>No of recoverd:-146.0<br>No of Remaining Cases:-537.0\", \"No of Deaths:-5.0<br>No of recoverd:-21.0<br>No of Remaining Cases:-122.0\", \"No of Deaths:-178.0<br>No of recoverd:-901.0<br>No of Remaining Cases:-7725.0\", \"No of Deaths:-0.0<br>No of recoverd:-0.0<br>No of Remaining Cases:-2.0\", \"No of Deaths:-7.0<br>No of recoverd:-259.0<br>No of Remaining Cases:-254.0\", \"No of Deaths:-17.0<br>No of recoverd:-277.0<br>No of Remaining Cases:-1125.0\", \"No of Deaths:-11.0<br>No of recoverd:-53.0<br>No of Remaining Cases:-181.0\", \"No of Deaths:-11.0<br>No of recoverd:-79.0<br>No of Remaining Cases:-370.0\", \"No of Deaths:-3.0<br>No of recoverd:-225.0<br>No of Remaining Cases:-1299.0\", \"No of Deaths:-5.0<br>No of recoverd:-91.0<br>No of Remaining Cases:-375.0\", \"No of Deaths:-0.0<br>No of recoverd:-2.0<br>No of Remaining Cases:-19.0\", \"No of Deaths:-5.0<br>No of recoverd:-57.0<br>No of Remaining Cases:-641.0\", \"No of Deaths:-21.0<br>No of recoverd:-86.0<br>No of Remaining Cases:-577.0\", \"No of Deaths:-6.0<br>No of recoverd:-4.0<br>No of Remaining Cases:-55.0\", \"No of Deaths:-1.0<br>No of recoverd:-11.0<br>No of Remaining Cases:-39.0\", \"No of Deaths:-1.0<br>No of recoverd:-55.0<br>No of Remaining Cases:-77.0\", \"No of Deaths:-32.0<br>No of recoverd:-178.0<br>No of Remaining Cases:-972.0\", \"No of Deaths:-69.0<br>No of recoverd:-552.0<br>No of Remaining Cases:-2892.0\", \"No of Deaths:-2.0<br>No of recoverd:-0.0<br>No of Remaining Cases:-9.0\", \"No of Deaths:-0.0<br>No of recoverd:-16.0<br>No of Remaining Cases:-35.0\", \"No of Deaths:-0.0<br>No of recoverd:-33.0<br>No of Remaining Cases:-91.0\", \"No of Deaths:-3222.0<br>No of recoverd:-64435.0<br>No of Remaining Cases:-52554.0\", \"No of Deaths:-2.0<br>No of recoverd:-0.0<br>No of Remaining Cases:-16.0\", \"No of Deaths:-84.0<br>No of recoverd:-2766.0<br>No of Remaining Cases:-2657.0\", \"No of Deaths:-0.0<br>No of recoverd:-16.0<br>No of Remaining Cases:-13.0\", \"No of Deaths:-13.0<br>No of recoverd:-34.0<br>No of Remaining Cases:-137.0\", \"No of Deaths:-3.0<br>No of recoverd:-82.0<br>No of Remaining Cases:-355.0\", \"No of Deaths:-1.0<br>No of recoverd:-0.0<br>No of Remaining Cases:-32.0\", \"No of Deaths:-1.0<br>No of recoverd:-2.0<br>No of Remaining Cases:-5.0\", \"No of Deaths:-9.0<br>No of recoverd:-81.0<br>No of Remaining Cases:-295.0\", \"No of Deaths:-0.0<br>No of recoverd:-0.0<br>No of Remaining Cases:-7.0\", \"No of Deaths:-449.0<br>No of recoverd:-2125.0<br>No of Remaining Cases:-3722.0\", \"No of Deaths:-54.0<br>No of recoverd:-235.0<br>No of Remaining Cases:-1919.0\", \"No of Deaths:-3.0<br>No of recoverd:-12.0<br>No of Remaining Cases:-87.0\", \"No of Deaths:-0.0<br>No of recoverd:-5.0<br>No of Remaining Cases:-26.0\", \"No of Deaths:-4.0<br>No of recoverd:-55.0<br>No of Remaining Cases:-269.0\", \"No of Deaths:-130.0<br>No of recoverd:-249.0<br>No of Remaining Cases:-2034.0\", \"No of Deaths:-0.0<br>No of recoverd:-2.0<br>No of Remaining Cases:-29.0\", \"No of Deaths:-0.0<br>No of recoverd:-4.0<br>No of Remaining Cases:-13.0\", \"No of Deaths:-0.0<br>No of recoverd:-2.0<br>No of Remaining Cases:-15.0\", \"No of Deaths:-3315.0<br>No of recoverd:-250.0<br>No of Remaining Cases:-28964.0\", \"No of Deaths:-9.0<br>No of recoverd:-770.0<br>No of Remaining Cases:-930.0\", \"No of Deaths:-1.0<br>No of recoverd:-4.0<br>No of Remaining Cases:-8.0\", \"No of Deaths:-14.0<br>No of recoverd:-90.0<br>No of Remaining Cases:-494.0\", \"No of Deaths:-13.0<br>No of recoverd:-152.0<br>No of Remaining Cases:-290.0\", \"No of Deaths:-0.0<br>No of recoverd:-0.0<br>No of Remaining Cases:-1.0\", \"No of Deaths:-46.0<br>No of recoverd:-121.0<br>No of Remaining Cases:-960.0\", \"No of Deaths:-152.0<br>No of recoverd:-32.0<br>No of Remaining Cases:-6864.0\", \"No of Deaths:-4.0<br>No of recoverd:-176.0<br>No of Remaining Cases:-843.0\", \"No of Deaths:-8.0<br>No of recoverd:-567.0<br>No of Remaining Cases:-696.0\", \"No of Deaths:-128.0<br>No of recoverd:-1645.0<br>No of Remaining Cases:-5274.0\", \"No of Deaths:-0.0<br>No of recoverd:-0.0<br>No of Remaining Cases:-22.0\", \"No of Deaths:-103.0<br>No of recoverd:-75.0<br>No of Remaining Cases:-3676.0\", \"No of Deaths:-0.0<br>No of recoverd:-0.0<br>No of Remaining Cases:-7.0\", \"No of Deaths:-8.0<br>No of recoverd:-30.0<br>No of Remaining Cases:-144.0\", \"No of Deaths:-274.0<br>No of recoverd:-6120.0<br>No of Remaining Cases:-8367.0\", \"No of Deaths:-362.0<br>No of recoverd:-435.0<br>No of Remaining Cases:-5225.0\", \"No of Deaths:-314.0<br>No of recoverd:-774.0<br>No of Remaining Cases:-7144.0\", \"No of Deaths:-629.0<br>No of recoverd:-493.0<br>No of Remaining Cases:-18348.0\", \"No of Deaths:-0.0<br>No of recoverd:-0.0<br>No of Remaining Cases:-3.0\", \"No of Deaths:-7.0<br>No of recoverd:-415.0<br>No of Remaining Cases:-3688.0\", \"No of Deaths:-0.0<br>No of recoverd:-0.0<br>No of Remaining Cases:-21.0\", \"No of Deaths:-0.0<br>No of recoverd:-0.0<br>No of Remaining Cases:-1.0\", \"No of Deaths:-0.0<br>No of recoverd:-0.0<br>No of Remaining Cases:-45.0\", \"No of Deaths:-392.0<br>No of recoverd:-1357.0<br>No of Remaining Cases:-6350.0\", \"No of Deaths:-232.0<br>No of recoverd:-2304.0<br>No of Remaining Cases:-25634.0\", \"No of Deaths:-0.0<br>No of recoverd:-60.0<br>No of Remaining Cases:-111.0\", \"No of Deaths:-0.0<br>No of recoverd:-0.0<br>No of Remaining Cases:-3.0\", \"No of Deaths:-0.0<br>No of recoverd:-0.0<br>No of Remaining Cases:-14.0\", \"No of Deaths:-0.0<br>No of recoverd:-11.0<br>No of Remaining Cases:-14.0\", \"No of Deaths:-0.0<br>No of recoverd:-1.0<br>No of Remaining Cases:-11.0\", \"No of Deaths:-38.0<br>No of recoverd:-55.0<br>No of Remaining Cases:-371.0\", \"No of Deaths:-0.0<br>No of recoverd:-0.0<br>No of Remaining Cases:-4.0\", \"No of Deaths:-83.0<br>No of recoverd:-990.0<br>No of Remaining Cases:-5390.0\", \"No of Deaths:-2.0<br>No of recoverd:-194.0<br>No of Remaining Cases:-147.0\", \"No of Deaths:-103.0<br>No of recoverd:-15.0<br>No of Remaining Cases:-5318.0\", \"No of Deaths:-0.0<br>No of recoverd:-0.0<br>No of Remaining Cases:-11.0\", \"No of Deaths:-0.0<br>No of recoverd:-0.0<br>No of Remaining Cases:-15.0\", \"No of Deaths:-10.0<br>No of recoverd:-683.0<br>No of Remaining Cases:-3744.0\", \"No of Deaths:-8.0<br>No of recoverd:-167.0<br>No of Remaining Cases:-810.0\", \"No of Deaths:-61.0<br>No of recoverd:-174.0<br>No of Remaining Cases:-1094.0\", \"No of Deaths:-5.0<br>No of recoverd:-2.0<br>No of Remaining Cases:-78.0\", \"No of Deaths:-48.0<br>No of recoverd:-903.0<br>No of Remaining Cases:-2096.0\", \"No of Deaths:-229.0<br>No of recoverd:-7757.0<br>No of Remaining Cases:-7652.0\", \"No of Deaths:-0.0<br>No of recoverd:-0.0<br>No of Remaining Cases:-4.0\", \"No of Deaths:-19315.0<br>No of recoverd:-74797.0<br>No of Remaining Cases:-110151.0\", \"No of Deaths:-7.0<br>No of recoverd:-68.0<br>No of Remaining Cases:-175.0\", \"No of Deaths:-0.0<br>No of recoverd:-0.0<br>No of Remaining Cases:-2.0\", \"No of Deaths:-5.0<br>No of recoverd:-4.0<br>No of Remaining Cases:-28.0\", \"No of Deaths:-1.0<br>No of recoverd:-6.0<br>No of Remaining Cases:-10.0\", \"No of Deaths:-1333.0<br>No of recoverd:-550.0<br>No of Remaining Cases:-11990.0\", \"No of Deaths:-1281.0<br>No of recoverd:-15900.0<br>No of Remaining Cases:-14814.0\", \"No of Deaths:-2.0<br>No of recoverd:-5.0<br>No of Remaining Cases:-28.0\", \"No of Deaths:-6.0<br>No of recoverd:-155.0<br>No of Remaining Cases:-319.0\", \"No of Deaths:-4.0<br>No of recoverd:-11.0<br>No of Remaining Cases:-83.0\", \"No of Deaths:-46.0<br>No of recoverd:-1593.0<br>No of Remaining Cases:-1483.0\", \"No of Deaths:-0.0<br>No of recoverd:-0.0<br>No of Remaining Cases:-1.0\", \"No of Deaths:-0.0<br>No of recoverd:-0.0<br>No of Remaining Cases:-1.0\", \"No of Deaths:-0.0<br>No of recoverd:-1.0<br>No of Remaining Cases:-17.0\", \"No of Deaths:-5.0<br>No of recoverd:-45.0<br>No of Remaining Cases:-51.0\", \"No of Deaths:-8.0<br>No of recoverd:-20.0<br>No of Remaining Cases:-108.0\", \"No of Deaths:-37.0<br>No of recoverd:-43.0<br>No of Remaining Cases:-779.0\", \"No of Deaths:-1643.0<br>No of recoverd:-7089.0<br>No of Remaining Cases:-67104.0\", \"No of Deaths:-13729.0<br>No of recoverd:-344.0<br>No of Remaining Cases:-103093.0\", \"No of Deaths:-14832.0<br>No of recoverd:-54703.0<br>No of Remaining Cases:-223691.0\", \"No of Deaths:-0.0<br>No of recoverd:-20.0<br>No of Remaining Cases:-53.0\", \"No of Deaths:-116.0<br>No of recoverd:-186.0<br>No of Remaining Cases:-3975.0\", \"No of Deaths:-35.0<br>No of recoverd:-1095.0<br>No of Remaining Cases:-4730.0\", \"No of Deaths:-9.0<br>No of recoverd:-286.0<br>No of Remaining Cases:-310.0\", \"No of Deaths:-4.0<br>No of recoverd:-129.0<br>No of Remaining Cases:-1220.0\", \"No of Deaths:-0.0<br>No of recoverd:-0.0<br>No of Remaining Cases:-1.0\", \"No of Deaths:-9.0<br>No of recoverd:-111.0<br>No of Remaining Cases:-107.0\", \"No of Deaths:-0.0<br>No of recoverd:-177.0<br>No of Remaining Cases:-163.0\", \"No of Deaths:-2.0<br>No of recoverd:-63.0<br>No of Remaining Cases:-311.0\", \"No of Deaths:-0.0<br>No of recoverd:-0.0<br>No of Remaining Cases:-6.0\", \"No of Deaths:-0.0<br>No of recoverd:-0.0<br>No of Remaining Cases:-1.0\", \"No of Deaths:-2.0<br>No of recoverd:-30.0<br>No of Remaining Cases:-39.0\", \"No of Deaths:-3.0<br>No of recoverd:-1.0<br>No of Remaining Cases:-22.0\", \"No of Deaths:-0.0<br>No of recoverd:-0.0<br>No of Remaining Cases:-25.0\"], \"type\": \"choropleth\", \"z\": [840.0, 518.0, 2268.0, 673.0, 19.0, 23.0, 2571.0, 1159.0, 4.0, 2897.0, 14476.0, 1283.0, 53.0, 4.0, 1700.0, 1572.0, 75.0, 4204.0, 34809.0, 18.0, 35.0, 5.0, 441.0, 1167.0, 15.0, 30425.0, 136.0, 800.0, 546.0, 85.0, 5.0, 56.0, 122.0, 996.0, 15857.0, 1.0, 1.0, 12.0, 27.0, 1.0, 8807.0, 3233.0, 117.0, 267.0, 642.0, 1791.0, 862.0, 1.0, 735.0, 6433.0, 6879.0, 712.0, 591.0, 16.0, 3755.0, 1.0, 8225.0, 2673.0, 164.0, 51.0, 35.0, 1434.0, 16.0, 92.0, 2.0, 17.0, 3369.0, 145960.0, 18.0, 80.0, 9.0, 1.0, 348.0, 137698.0, 641.0, 1.0, 2207.0, 1.0, 14.0, 53.0, 3.0, 196.0, 1.0, 438.0, 43.0, 55.0, 41.0, 8.0, 426.0, 1017.0, 1652.0, 1739.0, 13430.0, 5516.0, 77995.0, 1434.0, 13271.0, 12758.0, 168941.0, 654.0, 143.0, 8626.0, 2.0, 402.0, 1402.0, 234.0, 449.0, 1524.0, 466.0, 19.0, 675.0, 663.0, 59.0, 49.0, 79.0, 1128.0, 3444.0, 9.0, 45.0, 111.0, 67803.0, 16.0, 5182.0, 25.0, 171.0, 412.0, 32.0, 7.0, 324.0, 7.0, 5847.0, 2154.0, 93.0, 31.0, 303.0, 2283.0, 31.0, 16.0, 16.0, 29214.0, 1401.0, 9.0, 584.0, 442.0, 1.0, 1081.0, 6896.0, 1019.0, 712.0, 6919.0, 22.0, 3751.0, 7.0, 174.0, 12491.0, 5660.0, 7918.0, 18841.0, 3.0, 4103.0, 21.0, 1.0, 45.0, 7707.0, 27938.0, 138.0, 3.0, 14.0, 15.0, 12.0, 426.0, 4.0, 6380.0, 335.0, 5318.0, 11.0, 15.0, 4427.0, 977.0, 1268.0, 80.0, 2605.0, 10613.0, 4.0, 184948.0, 238.0, 2.0, 32.0, 10.0, 12540.0, 26732.0, 33.0, 395.0, 94.0, 2672.0, 1.0, 1.0, 18.0, 81.0, 114.0, 822.0, 74193.0, 103093.0, 223691.0, 55.0, 4161.0, 5825.0, 502.0, 1349.0, 1.0, 204.0, 268.0, 374.0, 6.0, 1.0, 48.0, 23.0, 25.0]}],\n",
       "                        {\"geo\": {\"projection\": {\"type\": \"equirectangular\"}, \"showframe\": false}, \"template\": {\"data\": {\"bar\": [{\"error_x\": {\"color\": \"#2a3f5f\"}, \"error_y\": {\"color\": \"#2a3f5f\"}, \"marker\": {\"line\": {\"color\": \"#E5ECF6\", \"width\": 0.5}}, \"type\": \"bar\"}], \"barpolar\": [{\"marker\": {\"line\": {\"color\": \"#E5ECF6\", \"width\": 0.5}}, \"type\": \"barpolar\"}], \"carpet\": [{\"aaxis\": {\"endlinecolor\": \"#2a3f5f\", \"gridcolor\": \"white\", \"linecolor\": \"white\", \"minorgridcolor\": \"white\", \"startlinecolor\": \"#2a3f5f\"}, \"baxis\": {\"endlinecolor\": \"#2a3f5f\", \"gridcolor\": \"white\", \"linecolor\": \"white\", \"minorgridcolor\": \"white\", \"startlinecolor\": \"#2a3f5f\"}, \"type\": \"carpet\"}], \"choropleth\": [{\"colorbar\": {\"outlinewidth\": 0, \"ticks\": \"\"}, \"type\": \"choropleth\"}], \"contour\": [{\"colorbar\": {\"outlinewidth\": 0, \"ticks\": \"\"}, \"colorscale\": [[0.0, \"#0d0887\"], [0.1111111111111111, \"#46039f\"], [0.2222222222222222, \"#7201a8\"], [0.3333333333333333, \"#9c179e\"], [0.4444444444444444, \"#bd3786\"], [0.5555555555555556, \"#d8576b\"], [0.6666666666666666, \"#ed7953\"], [0.7777777777777778, \"#fb9f3a\"], [0.8888888888888888, \"#fdca26\"], [1.0, \"#f0f921\"]], \"type\": \"contour\"}], \"contourcarpet\": [{\"colorbar\": {\"outlinewidth\": 0, \"ticks\": \"\"}, \"type\": \"contourcarpet\"}], \"heatmap\": [{\"colorbar\": {\"outlinewidth\": 0, \"ticks\": \"\"}, \"colorscale\": [[0.0, \"#0d0887\"], [0.1111111111111111, \"#46039f\"], [0.2222222222222222, \"#7201a8\"], [0.3333333333333333, \"#9c179e\"], [0.4444444444444444, \"#bd3786\"], [0.5555555555555556, \"#d8576b\"], [0.6666666666666666, \"#ed7953\"], [0.7777777777777778, \"#fb9f3a\"], [0.8888888888888888, \"#fdca26\"], [1.0, \"#f0f921\"]], \"type\": \"heatmap\"}], \"heatmapgl\": [{\"colorbar\": {\"outlinewidth\": 0, \"ticks\": \"\"}, \"colorscale\": [[0.0, \"#0d0887\"], [0.1111111111111111, \"#46039f\"], [0.2222222222222222, \"#7201a8\"], [0.3333333333333333, \"#9c179e\"], [0.4444444444444444, \"#bd3786\"], [0.5555555555555556, \"#d8576b\"], [0.6666666666666666, \"#ed7953\"], [0.7777777777777778, \"#fb9f3a\"], [0.8888888888888888, \"#fdca26\"], [1.0, \"#f0f921\"]], \"type\": \"heatmapgl\"}], \"histogram\": [{\"marker\": {\"colorbar\": {\"outlinewidth\": 0, \"ticks\": \"\"}}, \"type\": \"histogram\"}], \"histogram2d\": [{\"colorbar\": {\"outlinewidth\": 0, \"ticks\": \"\"}, \"colorscale\": [[0.0, \"#0d0887\"], [0.1111111111111111, \"#46039f\"], [0.2222222222222222, \"#7201a8\"], [0.3333333333333333, \"#9c179e\"], [0.4444444444444444, \"#bd3786\"], [0.5555555555555556, \"#d8576b\"], [0.6666666666666666, \"#ed7953\"], [0.7777777777777778, \"#fb9f3a\"], [0.8888888888888888, \"#fdca26\"], [1.0, \"#f0f921\"]], \"type\": \"histogram2d\"}], \"histogram2dcontour\": [{\"colorbar\": {\"outlinewidth\": 0, \"ticks\": \"\"}, \"colorscale\": [[0.0, \"#0d0887\"], [0.1111111111111111, \"#46039f\"], [0.2222222222222222, \"#7201a8\"], [0.3333333333333333, \"#9c179e\"], [0.4444444444444444, \"#bd3786\"], [0.5555555555555556, \"#d8576b\"], [0.6666666666666666, \"#ed7953\"], [0.7777777777777778, \"#fb9f3a\"], [0.8888888888888888, \"#fdca26\"], [1.0, \"#f0f921\"]], \"type\": \"histogram2dcontour\"}], \"mesh3d\": [{\"colorbar\": {\"outlinewidth\": 0, \"ticks\": \"\"}, \"type\": \"mesh3d\"}], \"parcoords\": [{\"line\": {\"colorbar\": {\"outlinewidth\": 0, \"ticks\": \"\"}}, \"type\": \"parcoords\"}], \"pie\": [{\"automargin\": true, \"type\": \"pie\"}], \"scatter\": [{\"marker\": {\"colorbar\": {\"outlinewidth\": 0, \"ticks\": \"\"}}, \"type\": \"scatter\"}], \"scatter3d\": [{\"line\": {\"colorbar\": {\"outlinewidth\": 0, \"ticks\": \"\"}}, \"marker\": {\"colorbar\": {\"outlinewidth\": 0, \"ticks\": \"\"}}, \"type\": \"scatter3d\"}], \"scattercarpet\": [{\"marker\": {\"colorbar\": {\"outlinewidth\": 0, \"ticks\": \"\"}}, \"type\": \"scattercarpet\"}], \"scattergeo\": [{\"marker\": {\"colorbar\": {\"outlinewidth\": 0, \"ticks\": \"\"}}, \"type\": \"scattergeo\"}], \"scattergl\": [{\"marker\": {\"colorbar\": {\"outlinewidth\": 0, \"ticks\": \"\"}}, \"type\": \"scattergl\"}], \"scattermapbox\": [{\"marker\": {\"colorbar\": {\"outlinewidth\": 0, \"ticks\": \"\"}}, \"type\": \"scattermapbox\"}], \"scatterpolar\": [{\"marker\": {\"colorbar\": {\"outlinewidth\": 0, \"ticks\": \"\"}}, \"type\": \"scatterpolar\"}], \"scatterpolargl\": [{\"marker\": {\"colorbar\": {\"outlinewidth\": 0, \"ticks\": \"\"}}, \"type\": \"scatterpolargl\"}], \"scatterternary\": [{\"marker\": {\"colorbar\": {\"outlinewidth\": 0, \"ticks\": \"\"}}, \"type\": \"scatterternary\"}], \"surface\": [{\"colorbar\": {\"outlinewidth\": 0, \"ticks\": \"\"}, \"colorscale\": [[0.0, \"#0d0887\"], [0.1111111111111111, \"#46039f\"], [0.2222222222222222, \"#7201a8\"], [0.3333333333333333, \"#9c179e\"], [0.4444444444444444, \"#bd3786\"], [0.5555555555555556, \"#d8576b\"], [0.6666666666666666, \"#ed7953\"], [0.7777777777777778, \"#fb9f3a\"], [0.8888888888888888, \"#fdca26\"], [1.0, \"#f0f921\"]], \"type\": \"surface\"}], \"table\": [{\"cells\": {\"fill\": {\"color\": \"#EBF0F8\"}, \"line\": {\"color\": \"white\"}}, \"header\": {\"fill\": {\"color\": \"#C8D4E3\"}, \"line\": {\"color\": \"white\"}}, \"type\": \"table\"}]}, \"layout\": {\"annotationdefaults\": {\"arrowcolor\": \"#2a3f5f\", \"arrowhead\": 0, \"arrowwidth\": 1}, \"coloraxis\": {\"colorbar\": {\"outlinewidth\": 0, \"ticks\": \"\"}}, \"colorscale\": {\"diverging\": [[0, \"#8e0152\"], [0.1, \"#c51b7d\"], [0.2, \"#de77ae\"], [0.3, \"#f1b6da\"], [0.4, \"#fde0ef\"], [0.5, \"#f7f7f7\"], [0.6, \"#e6f5d0\"], [0.7, \"#b8e186\"], [0.8, \"#7fbc41\"], [0.9, \"#4d9221\"], [1, \"#276419\"]], \"sequential\": [[0.0, \"#0d0887\"], [0.1111111111111111, \"#46039f\"], [0.2222222222222222, \"#7201a8\"], [0.3333333333333333, \"#9c179e\"], [0.4444444444444444, \"#bd3786\"], [0.5555555555555556, \"#d8576b\"], [0.6666666666666666, \"#ed7953\"], [0.7777777777777778, \"#fb9f3a\"], [0.8888888888888888, \"#fdca26\"], [1.0, \"#f0f921\"]], \"sequentialminus\": [[0.0, \"#0d0887\"], [0.1111111111111111, \"#46039f\"], [0.2222222222222222, \"#7201a8\"], [0.3333333333333333, \"#9c179e\"], [0.4444444444444444, \"#bd3786\"], [0.5555555555555556, \"#d8576b\"], [0.6666666666666666, \"#ed7953\"], [0.7777777777777778, \"#fb9f3a\"], [0.8888888888888888, \"#fdca26\"], [1.0, \"#f0f921\"]]}, \"colorway\": [\"#636efa\", \"#EF553B\", \"#00cc96\", \"#ab63fa\", \"#FFA15A\", \"#19d3f3\", \"#FF6692\", \"#B6E880\", \"#FF97FF\", \"#FECB52\"], \"font\": {\"color\": \"#2a3f5f\"}, \"geo\": {\"bgcolor\": \"white\", \"lakecolor\": \"white\", \"landcolor\": \"#E5ECF6\", \"showlakes\": true, \"showland\": true, \"subunitcolor\": \"white\"}, \"hoverlabel\": {\"align\": \"left\"}, \"hovermode\": \"closest\", \"mapbox\": {\"style\": \"light\"}, \"paper_bgcolor\": \"white\", \"plot_bgcolor\": \"#E5ECF6\", \"polar\": {\"angularaxis\": {\"gridcolor\": \"white\", \"linecolor\": \"white\", \"ticks\": \"\"}, \"bgcolor\": \"#E5ECF6\", \"radialaxis\": {\"gridcolor\": \"white\", \"linecolor\": \"white\", \"ticks\": \"\"}}, \"scene\": {\"xaxis\": {\"backgroundcolor\": \"#E5ECF6\", \"gridcolor\": \"white\", \"gridwidth\": 2, \"linecolor\": \"white\", \"showbackground\": true, \"ticks\": \"\", \"zerolinecolor\": \"white\"}, \"yaxis\": {\"backgroundcolor\": \"#E5ECF6\", \"gridcolor\": \"white\", \"gridwidth\": 2, \"linecolor\": \"white\", \"showbackground\": true, \"ticks\": \"\", \"zerolinecolor\": \"white\"}, \"zaxis\": {\"backgroundcolor\": \"#E5ECF6\", \"gridcolor\": \"white\", \"gridwidth\": 2, \"linecolor\": \"white\", \"showbackground\": true, \"ticks\": \"\", \"zerolinecolor\": \"white\"}}, \"shapedefaults\": {\"line\": {\"color\": \"#2a3f5f\"}}, \"ternary\": {\"aaxis\": {\"gridcolor\": \"white\", \"linecolor\": \"white\", \"ticks\": \"\"}, \"baxis\": {\"gridcolor\": \"white\", \"linecolor\": \"white\", \"ticks\": \"\"}, \"bgcolor\": \"#E5ECF6\", \"caxis\": {\"gridcolor\": \"white\", \"linecolor\": \"white\", \"ticks\": \"\"}}, \"title\": {\"x\": 0.05}, \"xaxis\": {\"automargin\": true, \"gridcolor\": \"white\", \"linecolor\": \"white\", \"ticks\": \"\", \"title\": {\"standoff\": 15}, \"zerolinecolor\": \"white\", \"zerolinewidth\": 2}, \"yaxis\": {\"automargin\": true, \"gridcolor\": \"white\", \"linecolor\": \"white\", \"ticks\": \"\", \"title\": {\"standoff\": 15}, \"zerolinecolor\": \"white\", \"zerolinewidth\": 2}}}, \"title\": {\"text\": \"Covid 19 Cases\"}},\n",
       "                        {\"responsive\": true}\n",
       "                    ).then(function(){\n",
       "                            \n",
       "var gd = document.getElementById('239d7983-a770-4e2c-8abe-f27d786898a5');\n",
       "var x = new MutationObserver(function (mutations, observer) {{\n",
       "        var display = window.getComputedStyle(gd).display;\n",
       "        if (!display || display === 'none') {{\n",
       "            console.log([gd, 'removed!']);\n",
       "            Plotly.purge(gd);\n",
       "            observer.disconnect();\n",
       "        }}\n",
       "}});\n",
       "\n",
       "// Listen for the removal of the full notebook cells\n",
       "var notebookContainer = gd.closest('#notebook-container');\n",
       "if (notebookContainer) {{\n",
       "    x.observe(notebookContainer, {childList: true});\n",
       "}}\n",
       "\n",
       "// Listen for the clearing of the current output cell\n",
       "var outputEl = gd.closest('.output');\n",
       "if (outputEl) {{\n",
       "    x.observe(outputEl, {childList: true});\n",
       "}}\n",
       "\n",
       "                        })\n",
       "                };\n",
       "                });\n",
       "            </script>\n",
       "        </div>"
      ]
     },
     "metadata": {},
     "output_type": "display_data"
    }
   ],
   "source": [
    "iplot(choromap)"
   ]
  },
  {
   "cell_type": "code",
   "execution_count": null,
   "metadata": {},
   "outputs": [],
   "source": []
  }
 ],
 "metadata": {
  "kernelspec": {
   "display_name": "Python 3",
   "language": "python",
   "name": "python3"
  },
  "language_info": {
   "codemirror_mode": {
    "name": "ipython",
    "version": 3
   },
   "file_extension": ".py",
   "mimetype": "text/x-python",
   "name": "python",
   "nbconvert_exporter": "python",
   "pygments_lexer": "ipython3",
   "version": "3.7.6"
  }
 },
 "nbformat": 4,
 "nbformat_minor": 4
}
